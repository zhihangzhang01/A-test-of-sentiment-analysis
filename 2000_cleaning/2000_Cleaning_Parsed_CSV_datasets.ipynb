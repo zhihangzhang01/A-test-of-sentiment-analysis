{
 "cells": [
  {
   "cell_type": "markdown",
   "id": "b6b69f5b",
   "metadata": {},
   "source": [
    "# Clean Parsed csv datasets\n",
    "\n",
    "To do this task, i have parsed the raw dataset in mbox file into the csv file called 2000_news_headlines.csv that we can use for analysis.\n",
    "\n",
    "__Objectives__\n",
    "\n",
    "The primary purpose of this notebook is to clean news_headlines dataset, this dataset will be turned as a cleaned dataset with all necessary data that we will use for research question analysis"
   ]
  },
  {
   "cell_type": "code",
   "execution_count": 228,
   "id": "d39e06ed",
   "metadata": {},
   "outputs": [],
   "source": [
    "import numpy as np\n",
    "import pandas as pd"
   ]
  },
  {
   "cell_type": "code",
   "execution_count": 229,
   "id": "fe3748f7",
   "metadata": {},
   "outputs": [],
   "source": [
    "# The directory used to store the raw datasets.\n",
    "datasets_dir = '../../FYP/Raw_dataset/'\n",
    "# The path to the dataset that is produced by this notebook.\n",
    "headlines_dir = '../../FYP/Clean_dataset/'"
   ]
  },
  {
   "cell_type": "code",
   "execution_count": 230,
   "id": "f1c35f04",
   "metadata": {},
   "outputs": [],
   "source": [
    "df = pd.read_csv(datasets_dir+'1000_news_headlines.csv')"
   ]
  },
  {
   "cell_type": "code",
   "execution_count": 231,
   "id": "a840a870",
   "metadata": {},
   "outputs": [],
   "source": [
    "df_clean = df.copy()\n",
    "df_clean.sort_values(by='Date', inplace=True)"
   ]
  },
  {
   "cell_type": "code",
   "execution_count": 232,
   "id": "cecb807e",
   "metadata": {},
   "outputs": [
    {
     "data": {
      "text/html": [
       "<div>\n",
       "<style scoped>\n",
       "    .dataframe tbody tr th:only-of-type {\n",
       "        vertical-align: middle;\n",
       "    }\n",
       "\n",
       "    .dataframe tbody tr th {\n",
       "        vertical-align: top;\n",
       "    }\n",
       "\n",
       "    .dataframe thead th {\n",
       "        text-align: right;\n",
       "    }\n",
       "</style>\n",
       "<table border=\"1\" class=\"dataframe\">\n",
       "  <thead>\n",
       "    <tr style=\"text-align: right;\">\n",
       "      <th></th>\n",
       "      <th>Date</th>\n",
       "      <th>Headlines</th>\n",
       "      <th>Author</th>\n",
       "      <th>Tag Text</th>\n",
       "    </tr>\n",
       "  </thead>\n",
       "  <tbody>\n",
       "    <tr>\n",
       "      <th>592</th>\n",
       "      <td>2018-03-17</td>\n",
       "      <td>Ritual killing? Outrage in Kakamega as missing...</td>\n",
       "      <td>SDE Entertainment News</td>\n",
       "      <td>Occurrences of ritual killings in Kakamega, wh...</td>\n",
       "    </tr>\n",
       "    <tr>\n",
       "      <th>583</th>\n",
       "      <td>2018-03-17</td>\n",
       "      <td>Meal-ordering app Ritual exposes government em...</td>\n",
       "      <td>The Verge</td>\n",
       "      <td>A couple months after Strava unintentionally e...</td>\n",
       "    </tr>\n",
       "    <tr>\n",
       "      <th>584</th>\n",
       "      <td>2018-03-17</td>\n",
       "      <td>In Spanish Basque Country, Sampling Cider and ...</td>\n",
       "      <td>New York Times</td>\n",
       "      <td>No one really tells you what to do when you fi...</td>\n",
       "    </tr>\n",
       "    <tr>\n",
       "      <th>585</th>\n",
       "      <td>2018-03-17</td>\n",
       "      <td>Perspectives | Scapegoating Becomes a Pre-Elec...</td>\n",
       "      <td>EurasiaNet</td>\n",
       "      <td>Perspectives | Scapegoating Becomes a Pre-Elec...</td>\n",
       "    </tr>\n",
       "    <tr>\n",
       "      <th>586</th>\n",
       "      <td>2018-03-17</td>\n",
       "      <td>Ready for the new moon? Try this guided ritual...</td>\n",
       "      <td>Well+Good</td>\n",
       "      <td>Mindfulness rockstar Kelly Morris is here to l...</td>\n",
       "    </tr>\n",
       "    <tr>\n",
       "      <th>...</th>\n",
       "      <td>...</td>\n",
       "      <td>...</td>\n",
       "      <td>...</td>\n",
       "      <td>...</td>\n",
       "    </tr>\n",
       "    <tr>\n",
       "      <th>1636</th>\n",
       "      <td>2022-08-27</td>\n",
       "      <td>9 New Moon Rituals For Intention Setting, Mani...</td>\n",
       "      <td>Experts - MindBodyGreen</td>\n",
       "      <td>MindBodyGreenNew moons are an excellent time t...</td>\n",
       "    </tr>\n",
       "    <tr>\n",
       "      <th>1645</th>\n",
       "      <td>2022-08-27</td>\n",
       "      <td>The Importance of Fire Ritual | Burning Man Jo...</td>\n",
       "      <td>Burning Man Journal</td>\n",
       "      <td>The Importance of Fire Ritual · Extracting a f...</td>\n",
       "    </tr>\n",
       "    <tr>\n",
       "      <th>1644</th>\n",
       "      <td>2022-08-27</td>\n",
       "      <td>Pune: Woman Made To Bathe In Public As Per Rit...</td>\n",
       "      <td>In Laws</td>\n",
       "      <td>Outlook IndiaA woman in Maharashtra's Pune has...</td>\n",
       "    </tr>\n",
       "    <tr>\n",
       "      <th>1642</th>\n",
       "      <td>2022-08-27</td>\n",
       "      <td>Cult Of The Lamb: The Best Rituals (&amp; When To ...</td>\n",
       "      <td>Game Rant</td>\n",
       "      <td>The Lamb gets one free Ritual when they first ...</td>\n",
       "    </tr>\n",
       "    <tr>\n",
       "      <th>1640</th>\n",
       "      <td>2022-08-27</td>\n",
       "      <td>Pune Woman Forced To Bathe In Public In 'Ritua...</td>\n",
       "      <td>Filed - NDTV.com</td>\n",
       "      <td>NDTV.com... a woman from Maharashtra's Pune wa...</td>\n",
       "    </tr>\n",
       "  </tbody>\n",
       "</table>\n",
       "<p>2205 rows × 4 columns</p>\n",
       "</div>"
      ],
      "text/plain": [
       "            Date                                          Headlines  \\\n",
       "592   2018-03-17  Ritual killing? Outrage in Kakamega as missing...   \n",
       "583   2018-03-17  Meal-ordering app Ritual exposes government em...   \n",
       "584   2018-03-17  In Spanish Basque Country, Sampling Cider and ...   \n",
       "585   2018-03-17  Perspectives | Scapegoating Becomes a Pre-Elec...   \n",
       "586   2018-03-17  Ready for the new moon? Try this guided ritual...   \n",
       "...          ...                                                ...   \n",
       "1636  2022-08-27  9 New Moon Rituals For Intention Setting, Mani...   \n",
       "1645  2022-08-27  The Importance of Fire Ritual | Burning Man Jo...   \n",
       "1644  2022-08-27  Pune: Woman Made To Bathe In Public As Per Rit...   \n",
       "1642  2022-08-27  Cult Of The Lamb: The Best Rituals (& When To ...   \n",
       "1640  2022-08-27  Pune Woman Forced To Bathe In Public In 'Ritua...   \n",
       "\n",
       "                       Author  \\\n",
       "592    SDE Entertainment News   \n",
       "583                 The Verge   \n",
       "584            New York Times   \n",
       "585                EurasiaNet   \n",
       "586                 Well+Good   \n",
       "...                       ...   \n",
       "1636  Experts - MindBodyGreen   \n",
       "1645      Burning Man Journal   \n",
       "1644                  In Laws   \n",
       "1642                Game Rant   \n",
       "1640         Filed - NDTV.com   \n",
       "\n",
       "                                               Tag Text  \n",
       "592   Occurrences of ritual killings in Kakamega, wh...  \n",
       "583   A couple months after Strava unintentionally e...  \n",
       "584   No one really tells you what to do when you fi...  \n",
       "585   Perspectives | Scapegoating Becomes a Pre-Elec...  \n",
       "586   Mindfulness rockstar Kelly Morris is here to l...  \n",
       "...                                                 ...  \n",
       "1636  MindBodyGreenNew moons are an excellent time t...  \n",
       "1645  The Importance of Fire Ritual · Extracting a f...  \n",
       "1644  Outlook IndiaA woman in Maharashtra's Pune has...  \n",
       "1642  The Lamb gets one free Ritual when they first ...  \n",
       "1640  NDTV.com... a woman from Maharashtra's Pune wa...  \n",
       "\n",
       "[2205 rows x 4 columns]"
      ]
     },
     "execution_count": 232,
     "metadata": {},
     "output_type": "execute_result"
    }
   ],
   "source": [
    "df_clean"
   ]
  },
  {
   "cell_type": "markdown",
   "id": "e5ce1b75",
   "metadata": {},
   "source": [
    "#### Few rows contains tag text in author column because the author was missing out in the raw dataset so we need to handle it."
   ]
  },
  {
   "cell_type": "code",
   "execution_count": 233,
   "id": "11b1a20d",
   "metadata": {},
   "outputs": [
    {
     "data": {
      "text/html": [
       "<div>\n",
       "<style scoped>\n",
       "    .dataframe tbody tr th:only-of-type {\n",
       "        vertical-align: middle;\n",
       "    }\n",
       "\n",
       "    .dataframe tbody tr th {\n",
       "        vertical-align: top;\n",
       "    }\n",
       "\n",
       "    .dataframe thead th {\n",
       "        text-align: right;\n",
       "    }\n",
       "</style>\n",
       "<table border=\"1\" class=\"dataframe\">\n",
       "  <thead>\n",
       "    <tr style=\"text-align: right;\">\n",
       "      <th></th>\n",
       "      <th>Date</th>\n",
       "      <th>Headlines</th>\n",
       "      <th>Author</th>\n",
       "      <th>Tag Text</th>\n",
       "    </tr>\n",
       "  </thead>\n",
       "  <tbody>\n",
       "    <tr>\n",
       "      <th>1171</th>\n",
       "      <td>2018-08-25</td>\n",
       "      <td>Ritual</td>\n",
       "      <td>White Lies - Ritual. Buy Vinyl, CD.</td>\n",
       "      <td>&lt;https://www.google.com/url?rct=j&amp;sa=t&amp;url=htt...</td>\n",
       "    </tr>\n",
       "    <tr>\n",
       "      <th>1927</th>\n",
       "      <td>2018-11-03</td>\n",
       "      <td>Funerary Cheek-Piercing Ritual</td>\n",
       "      <td>Funerary Cheek-Piercing Ritual (Nayarit #1997....</td>\n",
       "      <td>&lt;https://www.google.com/url?rct=j&amp;sa=t&amp;url=htt...</td>\n",
       "    </tr>\n",
       "    <tr>\n",
       "      <th>984</th>\n",
       "      <td>2019-03-16</td>\n",
       "      <td>Living Ritual</td>\n",
       "      <td>Rituals that heal us, feed us, change us, and ...</td>\n",
       "      <td>&lt;https://www.google.com/url?rct=j&amp;sa=t&amp;url=htt...</td>\n",
       "    </tr>\n",
       "    <tr>\n",
       "      <th>1114</th>\n",
       "      <td>2019-06-01</td>\n",
       "      <td>Ritual</td>\n",
       "      <td>Ritual, an album by Tiësto, Jonas Blue, Rita O...</td>\n",
       "      <td>&lt;https://www.google.com/url?rct=j&amp;sa=t&amp;url=htt...</td>\n",
       "    </tr>\n",
       "    <tr>\n",
       "      <th>1395</th>\n",
       "      <td>2019-07-13</td>\n",
       "      <td>SERaT--Database of Ritual Scenes</td>\n",
       "      <td>NaN</td>\n",
       "      <td>&lt;https://www.google.com/url?rct=j&amp;sa=t&amp;url=htt...</td>\n",
       "    </tr>\n",
       "    <tr>\n",
       "      <th>622</th>\n",
       "      <td>2019-12-14</td>\n",
       "      <td>Try a shut-down ritual</td>\n",
       "      <td>Ending your day well can set up a great day to...</td>\n",
       "      <td>&lt;https://www.google.com/url?rct=j&amp;sa=t&amp;url=htt...</td>\n",
       "    </tr>\n",
       "  </tbody>\n",
       "</table>\n",
       "</div>"
      ],
      "text/plain": [
       "            Date                         Headlines  \\\n",
       "1171  2018-08-25                            Ritual   \n",
       "1927  2018-11-03    Funerary Cheek-Piercing Ritual   \n",
       "984   2019-03-16                     Living Ritual   \n",
       "1114  2019-06-01                            Ritual   \n",
       "1395  2019-07-13  SERaT--Database of Ritual Scenes   \n",
       "622   2019-12-14            Try a shut-down ritual   \n",
       "\n",
       "                                                 Author  \\\n",
       "1171                White Lies - Ritual. Buy Vinyl, CD.   \n",
       "1927  Funerary Cheek-Piercing Ritual (Nayarit #1997....   \n",
       "984   Rituals that heal us, feed us, change us, and ...   \n",
       "1114  Ritual, an album by Tiësto, Jonas Blue, Rita O...   \n",
       "1395                                                NaN   \n",
       "622   Ending your day well can set up a great day to...   \n",
       "\n",
       "                                               Tag Text  \n",
       "1171  <https://www.google.com/url?rct=j&sa=t&url=htt...  \n",
       "1927  <https://www.google.com/url?rct=j&sa=t&url=htt...  \n",
       "984   <https://www.google.com/url?rct=j&sa=t&url=htt...  \n",
       "1114  <https://www.google.com/url?rct=j&sa=t&url=htt...  \n",
       "1395  <https://www.google.com/url?rct=j&sa=t&url=htt...  \n",
       "622   <https://www.google.com/url?rct=j&sa=t&url=htt...  "
      ]
     },
     "execution_count": 233,
     "metadata": {},
     "output_type": "execute_result"
    }
   ],
   "source": [
    "# Filter rows where 'Author' starts with '<https://www' url.\n",
    "mask = df_clean['Tag Text'].str.startswith('<https://www')\n",
    "df_clean.loc[mask]"
   ]
  },
  {
   "cell_type": "code",
   "execution_count": 234,
   "id": "17b7da06",
   "metadata": {},
   "outputs": [],
   "source": [
    "df_clean.loc[mask, 'Tag Text'] = df_clean.loc[mask, 'Author']"
   ]
  },
  {
   "cell_type": "code",
   "execution_count": 235,
   "id": "8343a507",
   "metadata": {},
   "outputs": [
    {
     "data": {
      "text/plain": [
       "0"
      ]
     },
     "execution_count": 235,
     "metadata": {},
     "output_type": "execute_result"
    }
   ],
   "source": [
    "df_clean = df_clean.dropna(subset=['Tag Text'])\n",
    "mask = df_clean['Tag Text'].str.startswith('<https://www')\n",
    "mask.sum()"
   ]
  },
  {
   "cell_type": "markdown",
   "id": "112a9c81",
   "metadata": {},
   "source": [
    "#### Handle duplicated values"
   ]
  },
  {
   "cell_type": "code",
   "execution_count": 236,
   "id": "c9be4594",
   "metadata": {},
   "outputs": [
    {
     "data": {
      "text/plain": [
       "4"
      ]
     },
     "execution_count": 236,
     "metadata": {},
     "output_type": "execute_result"
    }
   ],
   "source": [
    "# Check any duplicated value\n",
    "df_clean.duplicated().sum()"
   ]
  },
  {
   "cell_type": "code",
   "execution_count": 237,
   "id": "bd00848f",
   "metadata": {},
   "outputs": [
    {
     "data": {
      "text/html": [
       "<div>\n",
       "<style scoped>\n",
       "    .dataframe tbody tr th:only-of-type {\n",
       "        vertical-align: middle;\n",
       "    }\n",
       "\n",
       "    .dataframe tbody tr th {\n",
       "        vertical-align: top;\n",
       "    }\n",
       "\n",
       "    .dataframe thead th {\n",
       "        text-align: right;\n",
       "    }\n",
       "</style>\n",
       "<table border=\"1\" class=\"dataframe\">\n",
       "  <thead>\n",
       "    <tr style=\"text-align: right;\">\n",
       "      <th></th>\n",
       "      <th>Date</th>\n",
       "      <th>Headlines</th>\n",
       "      <th>Author</th>\n",
       "      <th>Tag Text</th>\n",
       "    </tr>\n",
       "  </thead>\n",
       "  <tbody>\n",
       "    <tr>\n",
       "      <th>1416</th>\n",
       "      <td>2018-09-08</td>\n",
       "      <td>Ritual Sacrifice May Have Shaped Dog Domestica...</td>\n",
       "      <td>Discover Magazine (blog)</td>\n",
       "      <td>In the city of Salekhard, Russia, where it mee...</td>\n",
       "    </tr>\n",
       "    <tr>\n",
       "      <th>890</th>\n",
       "      <td>2018-11-17</td>\n",
       "      <td>Five Maryland prep football players charged wi...</td>\n",
       "      <td>CBSSports.com</td>\n",
       "      <td>Five members of a Maryland high school footbal...</td>\n",
       "    </tr>\n",
       "    <tr>\n",
       "      <th>1076</th>\n",
       "      <td>2020-05-30</td>\n",
       "      <td>Communion ritual unchanged in Orthodox Church ...</td>\n",
       "      <td>NaN</td>\n",
       "      <td>One by one, the children and adults line up fo...</td>\n",
       "    </tr>\n",
       "    <tr>\n",
       "      <th>900</th>\n",
       "      <td>2022-04-02</td>\n",
       "      <td>Bloodstained: Ritual of the Night - New Playab...</td>\n",
       "      <td>YouTube</td>\n",
       "      <td>YouTubePlay as Aurora from Child of Light. Blo...</td>\n",
       "    </tr>\n",
       "  </tbody>\n",
       "</table>\n",
       "</div>"
      ],
      "text/plain": [
       "            Date                                          Headlines  \\\n",
       "1416  2018-09-08  Ritual Sacrifice May Have Shaped Dog Domestica...   \n",
       "890   2018-11-17  Five Maryland prep football players charged wi...   \n",
       "1076  2020-05-30  Communion ritual unchanged in Orthodox Church ...   \n",
       "900   2022-04-02  Bloodstained: Ritual of the Night - New Playab...   \n",
       "\n",
       "                        Author  \\\n",
       "1416  Discover Magazine (blog)   \n",
       "890              CBSSports.com   \n",
       "1076                       NaN   \n",
       "900                    YouTube   \n",
       "\n",
       "                                               Tag Text  \n",
       "1416  In the city of Salekhard, Russia, where it mee...  \n",
       "890   Five members of a Maryland high school footbal...  \n",
       "1076  One by one, the children and adults line up fo...  \n",
       "900   YouTubePlay as Aurora from Child of Light. Blo...  "
      ]
     },
     "execution_count": 237,
     "metadata": {},
     "output_type": "execute_result"
    }
   ],
   "source": [
    "df_clean[df_clean.duplicated()]"
   ]
  },
  {
   "cell_type": "code",
   "execution_count": 238,
   "id": "cd4c8107",
   "metadata": {},
   "outputs": [],
   "source": [
    "#  For all duplicated records, keep one record and remove its duplicates.\n",
    "df_clean = df_clean.drop_duplicates()"
   ]
  },
  {
   "cell_type": "markdown",
   "id": "ae8f42bb",
   "metadata": {},
   "source": [
    "#### Handle missing values"
   ]
  },
  {
   "cell_type": "code",
   "execution_count": 239,
   "id": "fb768d7e",
   "metadata": {},
   "outputs": [
    {
     "data": {
      "text/html": [
       "<div>\n",
       "<style scoped>\n",
       "    .dataframe tbody tr th:only-of-type {\n",
       "        vertical-align: middle;\n",
       "    }\n",
       "\n",
       "    .dataframe tbody tr th {\n",
       "        vertical-align: top;\n",
       "    }\n",
       "\n",
       "    .dataframe thead th {\n",
       "        text-align: right;\n",
       "    }\n",
       "</style>\n",
       "<table border=\"1\" class=\"dataframe\">\n",
       "  <thead>\n",
       "    <tr style=\"text-align: right;\">\n",
       "      <th></th>\n",
       "      <th>Date</th>\n",
       "      <th>Headlines</th>\n",
       "      <th>Author</th>\n",
       "      <th>Tag Text</th>\n",
       "    </tr>\n",
       "  </thead>\n",
       "  <tbody>\n",
       "    <tr>\n",
       "      <th>592</th>\n",
       "      <td>2018-03-17</td>\n",
       "      <td>Ritual killing? Outrage in Kakamega as missing...</td>\n",
       "      <td>SDE Entertainment News</td>\n",
       "      <td>Occurrences of ritual killings in Kakamega, wh...</td>\n",
       "    </tr>\n",
       "    <tr>\n",
       "      <th>583</th>\n",
       "      <td>2018-03-17</td>\n",
       "      <td>Meal-ordering app Ritual exposes government em...</td>\n",
       "      <td>The Verge</td>\n",
       "      <td>A couple months after Strava unintentionally e...</td>\n",
       "    </tr>\n",
       "    <tr>\n",
       "      <th>584</th>\n",
       "      <td>2018-03-17</td>\n",
       "      <td>In Spanish Basque Country, Sampling Cider and ...</td>\n",
       "      <td>New York Times</td>\n",
       "      <td>No one really tells you what to do when you fi...</td>\n",
       "    </tr>\n",
       "    <tr>\n",
       "      <th>585</th>\n",
       "      <td>2018-03-17</td>\n",
       "      <td>Perspectives | Scapegoating Becomes a Pre-Elec...</td>\n",
       "      <td>EurasiaNet</td>\n",
       "      <td>Perspectives | Scapegoating Becomes a Pre-Elec...</td>\n",
       "    </tr>\n",
       "    <tr>\n",
       "      <th>586</th>\n",
       "      <td>2018-03-17</td>\n",
       "      <td>Ready for the new moon? Try this guided ritual...</td>\n",
       "      <td>Well+Good</td>\n",
       "      <td>Mindfulness rockstar Kelly Morris is here to l...</td>\n",
       "    </tr>\n",
       "    <tr>\n",
       "      <th>...</th>\n",
       "      <td>...</td>\n",
       "      <td>...</td>\n",
       "      <td>...</td>\n",
       "      <td>...</td>\n",
       "    </tr>\n",
       "    <tr>\n",
       "      <th>1636</th>\n",
       "      <td>2022-08-27</td>\n",
       "      <td>9 New Moon Rituals For Intention Setting, Mani...</td>\n",
       "      <td>Experts - MindBodyGreen</td>\n",
       "      <td>MindBodyGreenNew moons are an excellent time t...</td>\n",
       "    </tr>\n",
       "    <tr>\n",
       "      <th>1645</th>\n",
       "      <td>2022-08-27</td>\n",
       "      <td>The Importance of Fire Ritual | Burning Man Jo...</td>\n",
       "      <td>Burning Man Journal</td>\n",
       "      <td>The Importance of Fire Ritual · Extracting a f...</td>\n",
       "    </tr>\n",
       "    <tr>\n",
       "      <th>1644</th>\n",
       "      <td>2022-08-27</td>\n",
       "      <td>Pune: Woman Made To Bathe In Public As Per Rit...</td>\n",
       "      <td>In Laws</td>\n",
       "      <td>Outlook IndiaA woman in Maharashtra's Pune has...</td>\n",
       "    </tr>\n",
       "    <tr>\n",
       "      <th>1642</th>\n",
       "      <td>2022-08-27</td>\n",
       "      <td>Cult Of The Lamb: The Best Rituals (&amp; When To ...</td>\n",
       "      <td>Game Rant</td>\n",
       "      <td>The Lamb gets one free Ritual when they first ...</td>\n",
       "    </tr>\n",
       "    <tr>\n",
       "      <th>1640</th>\n",
       "      <td>2022-08-27</td>\n",
       "      <td>Pune Woman Forced To Bathe In Public In 'Ritua...</td>\n",
       "      <td>Filed - NDTV.com</td>\n",
       "      <td>NDTV.com... a woman from Maharashtra's Pune wa...</td>\n",
       "    </tr>\n",
       "  </tbody>\n",
       "</table>\n",
       "<p>2200 rows × 4 columns</p>\n",
       "</div>"
      ],
      "text/plain": [
       "            Date                                          Headlines  \\\n",
       "592   2018-03-17  Ritual killing? Outrage in Kakamega as missing...   \n",
       "583   2018-03-17  Meal-ordering app Ritual exposes government em...   \n",
       "584   2018-03-17  In Spanish Basque Country, Sampling Cider and ...   \n",
       "585   2018-03-17  Perspectives | Scapegoating Becomes a Pre-Elec...   \n",
       "586   2018-03-17  Ready for the new moon? Try this guided ritual...   \n",
       "...          ...                                                ...   \n",
       "1636  2022-08-27  9 New Moon Rituals For Intention Setting, Mani...   \n",
       "1645  2022-08-27  The Importance of Fire Ritual | Burning Man Jo...   \n",
       "1644  2022-08-27  Pune: Woman Made To Bathe In Public As Per Rit...   \n",
       "1642  2022-08-27  Cult Of The Lamb: The Best Rituals (& When To ...   \n",
       "1640  2022-08-27  Pune Woman Forced To Bathe In Public In 'Ritua...   \n",
       "\n",
       "                       Author  \\\n",
       "592    SDE Entertainment News   \n",
       "583                 The Verge   \n",
       "584            New York Times   \n",
       "585                EurasiaNet   \n",
       "586                 Well+Good   \n",
       "...                       ...   \n",
       "1636  Experts - MindBodyGreen   \n",
       "1645      Burning Man Journal   \n",
       "1644                  In Laws   \n",
       "1642                Game Rant   \n",
       "1640         Filed - NDTV.com   \n",
       "\n",
       "                                               Tag Text  \n",
       "592   Occurrences of ritual killings in Kakamega, wh...  \n",
       "583   A couple months after Strava unintentionally e...  \n",
       "584   No one really tells you what to do when you fi...  \n",
       "585   Perspectives | Scapegoating Becomes a Pre-Elec...  \n",
       "586   Mindfulness rockstar Kelly Morris is here to l...  \n",
       "...                                                 ...  \n",
       "1636  MindBodyGreenNew moons are an excellent time t...  \n",
       "1645  The Importance of Fire Ritual · Extracting a f...  \n",
       "1644  Outlook IndiaA woman in Maharashtra's Pune has...  \n",
       "1642  The Lamb gets one free Ritual when they first ...  \n",
       "1640  NDTV.com... a woman from Maharashtra's Pune wa...  \n",
       "\n",
       "[2200 rows x 4 columns]"
      ]
     },
     "execution_count": 239,
     "metadata": {},
     "output_type": "execute_result"
    }
   ],
   "source": [
    "df_clean"
   ]
  },
  {
   "cell_type": "code",
   "execution_count": 240,
   "id": "e7805851",
   "metadata": {},
   "outputs": [
    {
     "data": {
      "text/plain": [
       "Date           0\n",
       "Headlines      0\n",
       "Author       247\n",
       "Tag Text       0\n",
       "dtype: int64"
      ]
     },
     "execution_count": 240,
     "metadata": {},
     "output_type": "execute_result"
    }
   ],
   "source": [
    "# Check any missing values\n",
    "df_clean.isnull().sum()"
   ]
  },
  {
   "cell_type": "code",
   "execution_count": 241,
   "id": "aedecc1e",
   "metadata": {},
   "outputs": [],
   "source": [
    "# In order to not lose any data from other column i decided to replace missing author with a generic name \"Unknow\"\n",
    "df_clean.loc[df_clean['Author'].isna(), 'Author'] = 'Unknown'"
   ]
  },
  {
   "cell_type": "code",
   "execution_count": 242,
   "id": "b7812536",
   "metadata": {},
   "outputs": [
    {
     "name": "stdout",
     "output_type": "stream",
     "text": [
      "write the dataFrame of extracted data to news_headlines.csv. (2200, 4.)\n"
     ]
    },
    {
     "data": {
      "text/plain": [
       "((2200, 4), Index(['Date', 'Headlines', 'Author', 'Tag Text'], dtype='object'))"
      ]
     },
     "execution_count": 242,
     "metadata": {},
     "output_type": "execute_result"
    }
   ],
   "source": [
    "print('write the dataFrame of extracted data to news_headlines.csv. (%s, %s.)' % df_clean.shape)\n",
    "df_clean.to_csv(headlines_dir+'2000_news_headlines.csv', index=False)\n",
    "df_clean.shape, df_clean.columns"
   ]
  },
  {
   "cell_type": "markdown",
   "id": "4c6345d4",
   "metadata": {},
   "source": [
    "#### Create the dataframe with a new column and save it,  i will manually label a subset of headlines that represent the entire datasetas by either positive, negative, or neutral to create a \"ground truth\" dataset using excel."
   ]
  },
  {
   "cell_type": "code",
   "execution_count": 243,
   "id": "c1579686",
   "metadata": {},
   "outputs": [],
   "source": [
    "# Load the dataset\n",
    "df = pd.read_csv(headlines_dir+'2000_news_headlines.csv')\n",
    "\n",
    "df['True_Label'] = np.nan\n",
    "\n",
    "# Save the updated dataframe back to CSV\n",
    "df.to_csv(headlines_dir+'2000_news_headlines_TrueGround.csv', index=False)"
   ]
  },
  {
   "cell_type": "code",
   "execution_count": null,
   "id": "443220af",
   "metadata": {},
   "outputs": [],
   "source": []
  },
  {
   "cell_type": "code",
   "execution_count": null,
   "id": "a795ad14",
   "metadata": {},
   "outputs": [],
   "source": []
  }
 ],
 "metadata": {
  "kernelspec": {
   "display_name": "Python 3 (ipykernel)",
   "language": "python",
   "name": "python3"
  },
  "language_info": {
   "codemirror_mode": {
    "name": "ipython",
    "version": 3
   },
   "file_extension": ".py",
   "mimetype": "text/x-python",
   "name": "python",
   "nbconvert_exporter": "python",
   "pygments_lexer": "ipython3",
   "version": "3.9.12"
  }
 },
 "nbformat": 4,
 "nbformat_minor": 5
}
