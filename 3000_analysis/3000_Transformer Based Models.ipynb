{
 "cells": [
  {
   "cell_type": "markdown",
   "id": "a429547b",
   "metadata": {},
   "source": [
    "# Sentiment analysis by Deep learning approaches (Transformer Based Models)\n",
    "\n",
    "\n",
    "__Objectives__\n",
    "\n",
    "The primary purpose of this notebook is to use the sentiment analysis tools (Transformer Based Models) on LabelFilled_TrueGround_dataset and evaluate the performance of deep learning approaches (Transformer Based Models) against the ground true label, analyze the results, etc."
   ]
  },
  {
   "cell_type": "code",
   "execution_count": 34,
   "id": "a08128c3",
   "metadata": {},
   "outputs": [],
   "source": [
    "import numpy as np\n",
    "from scipy.special import softmax\n",
    "import pandas as pd\n",
    "from transformers import pipeline"
   ]
  },
  {
   "cell_type": "code",
   "execution_count": 35,
   "id": "69b972c9",
   "metadata": {},
   "outputs": [],
   "source": [
    "# The path to the dataset that is produced by this notebook.\n",
    "Transformer_Based_Model_dataset = '../../FYP/3000_analysis_dataset/3000_Transformer_Based_Model_dataset.csv'\n",
    "\n",
    "# The directory used to store the true ground datasets.\n",
    "datasets_dir = '../../FYP/Clean_dataset/LabelFilled_TrueGround_dataset/'"
   ]
  },
  {
   "cell_type": "code",
   "execution_count": 36,
   "id": "f35bc5b4",
   "metadata": {},
   "outputs": [],
   "source": [
    "df = pd.read_csv(datasets_dir+'2000_news_headlines_TrueGround.csv',encoding='latin-1')"
   ]
  },
  {
   "cell_type": "code",
   "execution_count": 37,
   "id": "ddd85cf4",
   "metadata": {},
   "outputs": [
    {
     "data": {
      "text/html": [
       "<div>\n",
       "<style scoped>\n",
       "    .dataframe tbody tr th:only-of-type {\n",
       "        vertical-align: middle;\n",
       "    }\n",
       "\n",
       "    .dataframe tbody tr th {\n",
       "        vertical-align: top;\n",
       "    }\n",
       "\n",
       "    .dataframe thead th {\n",
       "        text-align: right;\n",
       "    }\n",
       "</style>\n",
       "<table border=\"1\" class=\"dataframe\">\n",
       "  <thead>\n",
       "    <tr style=\"text-align: right;\">\n",
       "      <th></th>\n",
       "      <th>Date</th>\n",
       "      <th>Headlines</th>\n",
       "      <th>Author</th>\n",
       "      <th>Tag Text</th>\n",
       "      <th>True_Label</th>\n",
       "    </tr>\n",
       "  </thead>\n",
       "  <tbody>\n",
       "    <tr>\n",
       "      <th>0</th>\n",
       "      <td>17/03/2018</td>\n",
       "      <td>Ritual killing? Outrage in Kakamega as missing...</td>\n",
       "      <td>SDE Entertainment News</td>\n",
       "      <td>Occurrences of ritual killings in Kakamega, wh...</td>\n",
       "      <td>negative</td>\n",
       "    </tr>\n",
       "    <tr>\n",
       "      <th>1</th>\n",
       "      <td>17/03/2018</td>\n",
       "      <td>Meal-ordering app Ritual exposes government em...</td>\n",
       "      <td>The Verge</td>\n",
       "      <td>A couple months after Strava unintentionally e...</td>\n",
       "      <td>NaN</td>\n",
       "    </tr>\n",
       "    <tr>\n",
       "      <th>2</th>\n",
       "      <td>17/03/2018</td>\n",
       "      <td>In Spanish Basque Country, Sampling Cider and ...</td>\n",
       "      <td>New York Times</td>\n",
       "      <td>No one really tells you what to do when you fi...</td>\n",
       "      <td>NaN</td>\n",
       "    </tr>\n",
       "    <tr>\n",
       "      <th>3</th>\n",
       "      <td>17/03/2018</td>\n",
       "      <td>Perspectives | Scapegoating Becomes a Pre-Elec...</td>\n",
       "      <td>EurasiaNet</td>\n",
       "      <td>Perspectives | Scapegoating Becomes a Pre-Elec...</td>\n",
       "      <td>NaN</td>\n",
       "    </tr>\n",
       "    <tr>\n",
       "      <th>4</th>\n",
       "      <td>17/03/2018</td>\n",
       "      <td>Ready for the new moon? Try this guided ritual...</td>\n",
       "      <td>Well+Good</td>\n",
       "      <td>Mindfulness rockstar Kelly Morris is here to l...</td>\n",
       "      <td>NaN</td>\n",
       "    </tr>\n",
       "    <tr>\n",
       "      <th>...</th>\n",
       "      <td>...</td>\n",
       "      <td>...</td>\n",
       "      <td>...</td>\n",
       "      <td>...</td>\n",
       "      <td>...</td>\n",
       "    </tr>\n",
       "    <tr>\n",
       "      <th>2195</th>\n",
       "      <td>27/08/2022</td>\n",
       "      <td>9 New Moon Rituals For Intention Setting, Mani...</td>\n",
       "      <td>Experts - MindBodyGreen</td>\n",
       "      <td>MindBodyGreenNew moons are an excellent time t...</td>\n",
       "      <td>positive</td>\n",
       "    </tr>\n",
       "    <tr>\n",
       "      <th>2196</th>\n",
       "      <td>27/08/2022</td>\n",
       "      <td>The Importance of Fire Ritual | Burning Man Jo...</td>\n",
       "      <td>Burning Man Journal</td>\n",
       "      <td>The Importance of Fire Ritual ?? Extracting a ...</td>\n",
       "      <td>NaN</td>\n",
       "    </tr>\n",
       "    <tr>\n",
       "      <th>2197</th>\n",
       "      <td>27/08/2022</td>\n",
       "      <td>Pune: Woman Made To Bathe In Public As Per Rit...</td>\n",
       "      <td>In Laws</td>\n",
       "      <td>Outlook IndiaA woman in Maharashtra's Pune has...</td>\n",
       "      <td>negative</td>\n",
       "    </tr>\n",
       "    <tr>\n",
       "      <th>2198</th>\n",
       "      <td>27/08/2022</td>\n",
       "      <td>Cult Of The Lamb: The Best Rituals (&amp; When To ...</td>\n",
       "      <td>Game Rant</td>\n",
       "      <td>The Lamb gets one free Ritual when they first ...</td>\n",
       "      <td>NaN</td>\n",
       "    </tr>\n",
       "    <tr>\n",
       "      <th>2199</th>\n",
       "      <td>27/08/2022</td>\n",
       "      <td>Pune Woman Forced To Bathe In Public In 'Ritua...</td>\n",
       "      <td>Filed - NDTV.com</td>\n",
       "      <td>NDTV.com... a woman from Maharashtra's Pune wa...</td>\n",
       "      <td>negative</td>\n",
       "    </tr>\n",
       "  </tbody>\n",
       "</table>\n",
       "<p>2200 rows × 5 columns</p>\n",
       "</div>"
      ],
      "text/plain": [
       "            Date                                          Headlines  \\\n",
       "0     17/03/2018  Ritual killing? Outrage in Kakamega as missing...   \n",
       "1     17/03/2018  Meal-ordering app Ritual exposes government em...   \n",
       "2     17/03/2018  In Spanish Basque Country, Sampling Cider and ...   \n",
       "3     17/03/2018  Perspectives | Scapegoating Becomes a Pre-Elec...   \n",
       "4     17/03/2018  Ready for the new moon? Try this guided ritual...   \n",
       "...          ...                                                ...   \n",
       "2195  27/08/2022  9 New Moon Rituals For Intention Setting, Mani...   \n",
       "2196  27/08/2022  The Importance of Fire Ritual | Burning Man Jo...   \n",
       "2197  27/08/2022  Pune: Woman Made To Bathe In Public As Per Rit...   \n",
       "2198  27/08/2022  Cult Of The Lamb: The Best Rituals (& When To ...   \n",
       "2199  27/08/2022  Pune Woman Forced To Bathe In Public In 'Ritua...   \n",
       "\n",
       "                       Author  \\\n",
       "0      SDE Entertainment News   \n",
       "1                   The Verge   \n",
       "2              New York Times   \n",
       "3                  EurasiaNet   \n",
       "4                   Well+Good   \n",
       "...                       ...   \n",
       "2195  Experts - MindBodyGreen   \n",
       "2196      Burning Man Journal   \n",
       "2197                  In Laws   \n",
       "2198                Game Rant   \n",
       "2199         Filed - NDTV.com   \n",
       "\n",
       "                                               Tag Text True_Label  \n",
       "0     Occurrences of ritual killings in Kakamega, wh...   negative  \n",
       "1     A couple months after Strava unintentionally e...        NaN  \n",
       "2     No one really tells you what to do when you fi...        NaN  \n",
       "3     Perspectives | Scapegoating Becomes a Pre-Elec...        NaN  \n",
       "4     Mindfulness rockstar Kelly Morris is here to l...        NaN  \n",
       "...                                                 ...        ...  \n",
       "2195  MindBodyGreenNew moons are an excellent time t...   positive  \n",
       "2196  The Importance of Fire Ritual ?? Extracting a ...        NaN  \n",
       "2197  Outlook IndiaA woman in Maharashtra's Pune has...   negative  \n",
       "2198  The Lamb gets one free Ritual when they first ...        NaN  \n",
       "2199  NDTV.com... a woman from Maharashtra's Pune wa...   negative  \n",
       "\n",
       "[2200 rows x 5 columns]"
      ]
     },
     "execution_count": 37,
     "metadata": {},
     "output_type": "execute_result"
    }
   ],
   "source": [
    "df"
   ]
  },
  {
   "cell_type": "code",
   "execution_count": 38,
   "id": "873aebbb",
   "metadata": {},
   "outputs": [],
   "source": [
    "# Filter the df to get df that contain entries with graound true label only.\n",
    "df_no_missing_column = df[df['True_Label'].notna()]"
   ]
  },
  {
   "cell_type": "code",
   "execution_count": 39,
   "id": "8eb88215",
   "metadata": {},
   "outputs": [
    {
     "data": {
      "text/html": [
       "<div>\n",
       "<style scoped>\n",
       "    .dataframe tbody tr th:only-of-type {\n",
       "        vertical-align: middle;\n",
       "    }\n",
       "\n",
       "    .dataframe tbody tr th {\n",
       "        vertical-align: top;\n",
       "    }\n",
       "\n",
       "    .dataframe thead th {\n",
       "        text-align: right;\n",
       "    }\n",
       "</style>\n",
       "<table border=\"1\" class=\"dataframe\">\n",
       "  <thead>\n",
       "    <tr style=\"text-align: right;\">\n",
       "      <th></th>\n",
       "      <th>Date</th>\n",
       "      <th>Headlines</th>\n",
       "      <th>Author</th>\n",
       "      <th>Tag Text</th>\n",
       "      <th>True_Label</th>\n",
       "    </tr>\n",
       "  </thead>\n",
       "  <tbody>\n",
       "    <tr>\n",
       "      <th>0</th>\n",
       "      <td>17/03/2018</td>\n",
       "      <td>Ritual killing? Outrage in Kakamega as missing...</td>\n",
       "      <td>SDE Entertainment News</td>\n",
       "      <td>Occurrences of ritual killings in Kakamega, wh...</td>\n",
       "      <td>negative</td>\n",
       "    </tr>\n",
       "    <tr>\n",
       "      <th>5</th>\n",
       "      <td>17/03/2018</td>\n",
       "      <td>A New Moon Ritual For Cutting The Cord On Limi...</td>\n",
       "      <td>Unknown</td>\n",
       "      <td>The Pisces new moon is a juicy, watery, soft, ...</td>\n",
       "      <td>positive</td>\n",
       "    </tr>\n",
       "    <tr>\n",
       "      <th>6</th>\n",
       "      <td>17/03/2018</td>\n",
       "      <td>Dead chickens, goats from animal sacrifice rit...</td>\n",
       "      <td>County</td>\n",
       "      <td>WOAISAN ANTONIO - Police are questioning suspe...</td>\n",
       "      <td>negative</td>\n",
       "    </tr>\n",
       "    <tr>\n",
       "      <th>14</th>\n",
       "      <td>24/03/2018</td>\n",
       "      <td>Jepitu farmers, fishermen hold thanksgiving ri...</td>\n",
       "      <td>Jakarta Post</td>\n",
       "      <td>Two fishermen fish using a net at the as part ...</td>\n",
       "      <td>positive</td>\n",
       "    </tr>\n",
       "    <tr>\n",
       "      <th>20</th>\n",
       "      <td>24/03/2018</td>\n",
       "      <td>Texas authorities: At least 12 arrested for an...</td>\n",
       "      <td>Unknown</td>\n",
       "      <td>SAN ANTONIO (AP) ?? Authorities in Texas have...</td>\n",
       "      <td>negative</td>\n",
       "    </tr>\n",
       "    <tr>\n",
       "      <th>...</th>\n",
       "      <td>...</td>\n",
       "      <td>...</td>\n",
       "      <td>...</td>\n",
       "      <td>...</td>\n",
       "      <td>...</td>\n",
       "    </tr>\n",
       "    <tr>\n",
       "      <th>2184</th>\n",
       "      <td>20/08/2022</td>\n",
       "      <td>Police in Nigeria find 20 mummified bodies in ...</td>\n",
       "      <td>The Guardian</td>\n",
       "      <td>The GuardianArmed police officers raided the b...</td>\n",
       "      <td>negative</td>\n",
       "    </tr>\n",
       "    <tr>\n",
       "      <th>2189</th>\n",
       "      <td>20/08/2022</td>\n",
       "      <td>Police give more details about 20 corpses dem ...</td>\n",
       "      <td>BBC</td>\n",
       "      <td>BBCPolice for Edo State south-south Nigeria sa...</td>\n",
       "      <td>negative</td>\n",
       "    </tr>\n",
       "    <tr>\n",
       "      <th>2195</th>\n",
       "      <td>27/08/2022</td>\n",
       "      <td>9 New Moon Rituals For Intention Setting, Mani...</td>\n",
       "      <td>Experts - MindBodyGreen</td>\n",
       "      <td>MindBodyGreenNew moons are an excellent time t...</td>\n",
       "      <td>positive</td>\n",
       "    </tr>\n",
       "    <tr>\n",
       "      <th>2197</th>\n",
       "      <td>27/08/2022</td>\n",
       "      <td>Pune: Woman Made To Bathe In Public As Per Rit...</td>\n",
       "      <td>In Laws</td>\n",
       "      <td>Outlook IndiaA woman in Maharashtra's Pune has...</td>\n",
       "      <td>negative</td>\n",
       "    </tr>\n",
       "    <tr>\n",
       "      <th>2199</th>\n",
       "      <td>27/08/2022</td>\n",
       "      <td>Pune Woman Forced To Bathe In Public In 'Ritua...</td>\n",
       "      <td>Filed - NDTV.com</td>\n",
       "      <td>NDTV.com... a woman from Maharashtra's Pune wa...</td>\n",
       "      <td>negative</td>\n",
       "    </tr>\n",
       "  </tbody>\n",
       "</table>\n",
       "<p>270 rows × 5 columns</p>\n",
       "</div>"
      ],
      "text/plain": [
       "            Date                                          Headlines  \\\n",
       "0     17/03/2018  Ritual killing? Outrage in Kakamega as missing...   \n",
       "5     17/03/2018  A New Moon Ritual For Cutting The Cord On Limi...   \n",
       "6     17/03/2018  Dead chickens, goats from animal sacrifice rit...   \n",
       "14    24/03/2018  Jepitu farmers, fishermen hold thanksgiving ri...   \n",
       "20    24/03/2018  Texas authorities: At least 12 arrested for an...   \n",
       "...          ...                                                ...   \n",
       "2184  20/08/2022  Police in Nigeria find 20 mummified bodies in ...   \n",
       "2189  20/08/2022  Police give more details about 20 corpses dem ...   \n",
       "2195  27/08/2022  9 New Moon Rituals For Intention Setting, Mani...   \n",
       "2197  27/08/2022  Pune: Woman Made To Bathe In Public As Per Rit...   \n",
       "2199  27/08/2022  Pune Woman Forced To Bathe In Public In 'Ritua...   \n",
       "\n",
       "                       Author  \\\n",
       "0      SDE Entertainment News   \n",
       "5                     Unknown   \n",
       "6                      County   \n",
       "14               Jakarta Post   \n",
       "20                    Unknown   \n",
       "...                       ...   \n",
       "2184             The Guardian   \n",
       "2189                      BBC   \n",
       "2195  Experts - MindBodyGreen   \n",
       "2197                  In Laws   \n",
       "2199         Filed - NDTV.com   \n",
       "\n",
       "                                               Tag Text True_Label  \n",
       "0     Occurrences of ritual killings in Kakamega, wh...   negative  \n",
       "5     The Pisces new moon is a juicy, watery, soft, ...   positive  \n",
       "6     WOAISAN ANTONIO - Police are questioning suspe...   negative  \n",
       "14    Two fishermen fish using a net at the as part ...   positive  \n",
       "20    SAN ANTONIO (AP) ?? Authorities in Texas have...   negative  \n",
       "...                                                 ...        ...  \n",
       "2184  The GuardianArmed police officers raided the b...   negative  \n",
       "2189  BBCPolice for Edo State south-south Nigeria sa...   negative  \n",
       "2195  MindBodyGreenNew moons are an excellent time t...   positive  \n",
       "2197  Outlook IndiaA woman in Maharashtra's Pune has...   negative  \n",
       "2199  NDTV.com... a woman from Maharashtra's Pune wa...   negative  \n",
       "\n",
       "[270 rows x 5 columns]"
      ]
     },
     "execution_count": 39,
     "metadata": {},
     "output_type": "execute_result"
    }
   ],
   "source": [
    "df_no_missing_column"
   ]
  },
  {
   "cell_type": "markdown",
   "id": "d10fcafd",
   "metadata": {},
   "source": [
    "Refered the documentation and notebook from https://huggingface.co/cardiffnlp/twitter-roberta-base-sentiment-latest (Hugging Face web)\n",
    "\n",
    "\n",
    "Twitter-roBERTa-base for Sentiment Analysis: According to the brief documentation \\cite{TwitterroBERTa2022}\\cite{camacho-collados-etal-2022-tweetnlp}\\cite{loureiro-etal-2022-timelms}, this model based on Roberta used for sentiment analysis has been trained on 124 million tweets from January 2018 to December 2021 and fine-tuned for sentiment analysis with the TweetEval benchmark dataset. The TweetEval benchmark dataset\\cite{tweet_eval}\\cite{rosenthal2017semeval} includes data (input tweet and ground truth labels) for seven tasks focusing on different aspects of twitter data analysis and framed as multi-class tweet classification including : irony, hate, offensive, stance, emoji, emotion, and sentiment.\n",
    "\n",
    "Refer to the code of full classification example from Twitter-roBERTa-base model card for API access\\cite{TwitterroBERTa2022}. This model is fine-tuned by TweetEval benchmark dataset for multiclass classification, which produces the probabilities of being classified as positive, negative, and netural respectively after the output logits processed by the softmax function. My ground truth labels only contain positive and negative labels, so I will map the highest score between the positive and negative scores, ignoring the netural score."
   ]
  },
  {
   "cell_type": "code",
   "execution_count": 40,
   "id": "15d81e8d",
   "metadata": {},
   "outputs": [],
   "source": [
    "from transformers import AutoModelForSequenceClassification\n",
    "from transformers import TFAutoModelForSequenceClassification\n",
    "from transformers import AutoTokenizer, AutoConfig"
   ]
  },
  {
   "cell_type": "code",
   "execution_count": 41,
   "id": "496d93a1",
   "metadata": {},
   "outputs": [],
   "source": [
    "MODEL = f\"cardiffnlp/twitter-roberta-base-sentiment-latest\"\n",
    "TweetPretrained_Reberta_tokenizer = AutoTokenizer.from_pretrained(MODEL)\n",
    "TweetPretrained_Reberta_config = AutoConfig.from_pretrained(MODEL)"
   ]
  },
  {
   "cell_type": "code",
   "execution_count": 42,
   "id": "4bbe3c43",
   "metadata": {},
   "outputs": [
    {
     "name": "stderr",
     "output_type": "stream",
     "text": [
      "Some weights of the model checkpoint at cardiffnlp/twitter-roberta-base-sentiment-latest were not used when initializing RobertaForSequenceClassification: ['roberta.pooler.dense.bias', 'roberta.pooler.dense.weight']\n",
      "- This IS expected if you are initializing RobertaForSequenceClassification from the checkpoint of a model trained on another task or with another architecture (e.g. initializing a BertForSequenceClassification model from a BertForPreTraining model).\n",
      "- This IS NOT expected if you are initializing RobertaForSequenceClassification from the checkpoint of a model that you expect to be exactly identical (initializing a BertForSequenceClassification model from a BertForSequenceClassification model).\n"
     ]
    }
   ],
   "source": [
    "TweetPretrained_Reberta_model = AutoModelForSequenceClassification.from_pretrained(MODEL)"
   ]
  },
  {
   "cell_type": "code",
   "execution_count": 43,
   "id": "d6af2b0b",
   "metadata": {},
   "outputs": [],
   "source": [
    "# Define a function to get the sentiment score\n",
    "def get_sentiment_result(text):\n",
    "    encoded_input = TweetPretrained_Reberta_tokenizer(text, return_tensors='pt')\n",
    "    output = TweetPretrained_Reberta_model(**encoded_input)\n",
    "    scores = output[0][0].detach().numpy()\n",
    "    scores = softmax(scores)\n",
    "    \n",
    "    pos_neg_scores = {}\n",
    "    \n",
    "    # Extract only positive and negative scores, ignoring neutral\n",
    "    for i in range(scores.shape[0]):\n",
    "        # Get the label like 'Positive', 'Negative', 'Neutral' for the current score\n",
    "        label = TweetPretrained_Reberta_config.id2label[i]\n",
    "\n",
    "        if label in ['positive', 'negative']:\n",
    "            pos_neg_scores[label] = scores[i]\n",
    "            \n",
    "    # Return the sentiment with the maximum score\n",
    "    max_sentiment = max(pos_neg_scores, key=pos_neg_scores.get)\n",
    "    max_score = pos_neg_scores[max_sentiment]\n",
    "    \n",
    "    return max_sentiment"
   ]
  },
  {
   "cell_type": "code",
   "execution_count": 44,
   "id": "84bc730a",
   "metadata": {},
   "outputs": [],
   "source": [
    "df_TweetPretrained_Reberta = df_no_missing_column.copy()\n",
    "# Apply sentiment analysis on headline column\n",
    "df_TweetPretrained_Reberta['TweetPretrained_Reberta_Headlines_Predicted_Label'] = df_TweetPretrained_Reberta['Headlines'].apply(lambda x: get_sentiment_result(x))\n",
    "\n",
    "# Apply sentiment analysis on Tag Text column\n",
    "df_TweetPretrained_Reberta['TweetPretrained_Reberta_Tag Text_Predicted_Label'] = df_TweetPretrained_Reberta['Tag Text'].apply(lambda x: get_sentiment_result(x))"
   ]
  },
  {
   "cell_type": "markdown",
   "id": "0d5dcf37",
   "metadata": {},
   "source": [
    "Evaluate the predictions of headlines"
   ]
  },
  {
   "cell_type": "code",
   "execution_count": 45,
   "id": "7a6a35c3",
   "metadata": {},
   "outputs": [],
   "source": [
    "from sklearn.metrics import accuracy_score, precision_score, recall_score, f1_score, confusion_matrix, ConfusionMatrixDisplay"
   ]
  },
  {
   "cell_type": "code",
   "execution_count": 46,
   "id": "de4841ef",
   "metadata": {},
   "outputs": [],
   "source": [
    "TweetPretrained_Reberta_headline_accuracy = accuracy_score(df_TweetPretrained_Reberta['True_Label'], df_TweetPretrained_Reberta['TweetPretrained_Reberta_Headlines_Predicted_Label'])\n",
    "TweetPretrained_Reberta_headline_precision = precision_score(df_TweetPretrained_Reberta['True_Label'], df_TweetPretrained_Reberta['TweetPretrained_Reberta_Headlines_Predicted_Label'], average='binary', pos_label='positive')\n",
    "TweetPretrained_Reberta_headline_recall = recall_score(df_TweetPretrained_Reberta['True_Label'], df_TweetPretrained_Reberta['TweetPretrained_Reberta_Headlines_Predicted_Label'], average='binary', pos_label='positive')\n",
    "TweetPretrained_Reberta_headline_f1 = f1_score(df_TweetPretrained_Reberta['True_Label'], df_TweetPretrained_Reberta['TweetPretrained_Reberta_Headlines_Predicted_Label'], average='binary', pos_label='positive')"
   ]
  },
  {
   "cell_type": "code",
   "execution_count": 47,
   "id": "3bcb1a74",
   "metadata": {},
   "outputs": [
    {
     "name": "stdout",
     "output_type": "stream",
     "text": [
      "Headline Accuracy: 0.9666666666666667\n",
      "Headline Precision: 0.9883720930232558\n",
      "Headline Recall: 0.9139784946236559\n",
      "Headline F1 Score: 0.9497206703910613\n"
     ]
    }
   ],
   "source": [
    "print(\"Headline Accuracy:\", TweetPretrained_Reberta_headline_accuracy)\n",
    "print(\"Headline Precision:\", TweetPretrained_Reberta_headline_precision)\n",
    "print(\"Headline Recall:\", TweetPretrained_Reberta_headline_recall)\n",
    "print(\"Headline F1 Score:\", TweetPretrained_Reberta_headline_f1)"
   ]
  },
  {
   "cell_type": "markdown",
   "id": "4b1d1f98",
   "metadata": {},
   "source": [
    "Based on the confusion matrix for headlines, the number of false negative examples is 9 times greater than false positive examples, which suggests that this tweets pretrained Roberta is weaker at classifing true positive examples."
   ]
  },
  {
   "cell_type": "code",
   "execution_count": 48,
   "id": "0f9b3281",
   "metadata": {},
   "outputs": [
    {
     "data": {
      "image/png": "[encoded data removed]",
      "text/plain": [
       "<Figure size 432x288 with 2 Axes>"
      ]
     },
     "metadata": {
      "needs_background": "light"
     },
     "output_type": "display_data"
    }
   ],
   "source": [
    "# plot_confusion_matrix\n",
    "cm = confusion_matrix(df_TweetPretrained_Reberta['True_Label'], df_TweetPretrained_Reberta['TweetPretrained_Reberta_Headlines_Predicted_Label'])\n",
    "disp = ConfusionMatrixDisplay(confusion_matrix=cm)\n",
    "disp.plot();"
   ]
  },
  {
   "cell_type": "markdown",
   "id": "1f6f947c",
   "metadata": {},
   "source": [
    "Evaluate the predictions of tag text"
   ]
  },
  {
   "cell_type": "code",
   "execution_count": 49,
   "id": "b0eeea3b",
   "metadata": {},
   "outputs": [],
   "source": [
    "TweetPretrained_Reberta_TagText_accuracy = accuracy_score(df_TweetPretrained_Reberta['True_Label'], df_TweetPretrained_Reberta['TweetPretrained_Reberta_Tag Text_Predicted_Label'])\n",
    "TweetPretrained_Reberta_TagText_precision = precision_score(df_TweetPretrained_Reberta['True_Label'], df_TweetPretrained_Reberta['TweetPretrained_Reberta_Tag Text_Predicted_Label'], average='binary', pos_label='positive')\n",
    "TweetPretrained_Reberta_TagText_recall = recall_score(df_TweetPretrained_Reberta['True_Label'], df_TweetPretrained_Reberta['TweetPretrained_Reberta_Tag Text_Predicted_Label'], average='binary', pos_label='positive')\n",
    "TweetPretrained_Reberta_TagText_f1 = f1_score(df_TweetPretrained_Reberta['True_Label'], df_TweetPretrained_Reberta['TweetPretrained_Reberta_Tag Text_Predicted_Label'], average='binary', pos_label='positive')"
   ]
  },
  {
   "cell_type": "code",
   "execution_count": 50,
   "id": "821ee07b",
   "metadata": {},
   "outputs": [
    {
     "name": "stdout",
     "output_type": "stream",
     "text": [
      "Tag text Accuracy: 0.8925925925925926\n",
      "Tag text Precision: 0.826530612244898\n",
      "Tag text Recall: 0.8709677419354839\n",
      "Tag text F1 Score: 0.8481675392670157\n"
     ]
    }
   ],
   "source": [
    "print(\"Tag text Accuracy:\", TweetPretrained_Reberta_TagText_accuracy)\n",
    "print(\"Tag text Precision:\", TweetPretrained_Reberta_TagText_precision)\n",
    "print(\"Tag text Recall:\", TweetPretrained_Reberta_TagText_recall)\n",
    "print(\"Tag text F1 Score:\", TweetPretrained_Reberta_TagText_f1)"
   ]
  },
  {
   "cell_type": "markdown",
   "id": "1d7fc634",
   "metadata": {},
   "source": [
    "Based on the confusion matrix for tagtext, the number of false positive is greater than number of false negative examples and the number of correctly classifed examples are less than the coreectly classified examples in headlines."
   ]
  },
  {
   "cell_type": "code",
   "execution_count": 51,
   "id": "1053d484",
   "metadata": {},
   "outputs": [
    {
     "data": {
      "image/png": "[encoded data removed]",
      "text/plain": [
       "<Figure size 432x288 with 2 Axes>"
      ]
     },
     "metadata": {
      "needs_background": "light"
     },
     "output_type": "display_data"
    }
   ],
   "source": [
    "# plot_confusion_matrix\n",
    "cm = confusion_matrix(df_TweetPretrained_Reberta['True_Label'], df_TweetPretrained_Reberta['TweetPretrained_Reberta_Tag Text_Predicted_Label'])\n",
    "disp = ConfusionMatrixDisplay(confusion_matrix=cm)\n",
    "disp.plot();"
   ]
  },
  {
   "cell_type": "code",
   "execution_count": 52,
   "id": "7fda51fd",
   "metadata": {},
   "outputs": [],
   "source": [
    "import matplotlib.pyplot as plt"
   ]
  },
  {
   "cell_type": "code",
   "execution_count": 53,
   "id": "6fa818af",
   "metadata": {},
   "outputs": [
    {
     "data": {
      "image/png": "[encoded data removed]",
      "text/plain": [
       "<Figure size 576x504 with 1 Axes>"
      ]
     },
     "metadata": {
      "needs_background": "light"
     },
     "output_type": "display_data"
    }
   ],
   "source": [
    "Text_Type = ['Head line', 'Tag Text']\n",
    "Accuracy = [TweetPretrained_Reberta_headline_accuracy,TweetPretrained_Reberta_TagText_accuracy]\n",
    "# Create a figure with two subplots\n",
    "fig, axs = plt.subplots(figsize=(8, 7))\n",
    "\n",
    "# Plot the second bar chart\n",
    "axs.bar(Text_Type, Accuracy)\n",
    "axs.set_xlabel('Text Type')\n",
    "axs.set_ylabel('Accuracy')\n",
    "axs.set_title('The accuracy of classified examples by head line and tag text')\n",
    "axs.set_ylim(ymin=0, ymax=1)\n",
    "# Adjust the spacing between subplots\n",
    "plt.tight_layout()\n",
    "\n",
    "# Show the chart\n",
    "plt.show()"
   ]
  },
  {
   "cell_type": "markdown",
   "id": "06ebe9c3",
   "metadata": {},
   "source": [
    "From the metrics table, we can see that this tweets pretrained Roberta is comprehensively performing poor on longer text than short text, almost the performance on tagtext is like 7 percent lower than headlines.\n",
    "\n",
    "The performance of this tweets pretrained Roberta on headline text is different from Tag text, from the table we can see that it performs better in terms of headline text, headline text is much shorter than Tag text(a piece of text in news content). "
   ]
  },
  {
   "cell_type": "code",
   "execution_count": 54,
   "id": "aec7053f",
   "metadata": {},
   "outputs": [
    {
     "name": "stdout",
     "output_type": "stream",
     "text": [
      "╒════╤═══════════╤═════════════════╤════════════╕\n",
      "│    │ Metrics   │   Headline text │   Tag text │\n",
      "╞════╪═══════════╪═════════════════╪════════════╡\n",
      "│  0 │ Accuracy  │        0.966667 │   0.892593 │\n",
      "├────┼───────────┼─────────────────┼────────────┤\n",
      "│  1 │ Precision │        0.988372 │   0.826531 │\n",
      "├────┼───────────┼─────────────────┼────────────┤\n",
      "│  2 │ Recall    │        0.913978 │   0.870968 │\n",
      "├────┼───────────┼─────────────────┼────────────┤\n",
      "│  3 │ F1 Score  │        0.949721 │   0.848168 │\n",
      "╘════╧═══════════╧═════════════════╧════════════╛\n"
     ]
    }
   ],
   "source": [
    "from tabulate import tabulate\n",
    "\n",
    "metrics = [[\"Accuracy\", TweetPretrained_Reberta_headline_accuracy,TweetPretrained_Reberta_TagText_accuracy], \n",
    "        [\"Precision\", TweetPretrained_Reberta_headline_precision,TweetPretrained_Reberta_TagText_precision], \n",
    "        [\"Recall\", TweetPretrained_Reberta_headline_recall,TweetPretrained_Reberta_TagText_recall], \n",
    "        [\"F1 Score\", TweetPretrained_Reberta_headline_f1,TweetPretrained_Reberta_TagText_f1]]\n",
    "  \n",
    "\n",
    "col_names = [\"Metrics\", \"Headline text\",\"Tag text\"]\n",
    "  \n",
    "\n",
    "print(tabulate(metrics, headers=col_names, tablefmt=\"fancy_grid\", showindex=\"always\"))"
   ]
  },
  {
   "cell_type": "markdown",
   "id": "e1aa47bd",
   "metadata": {},
   "source": [
    "Refered the documentation and notebook from https://huggingface.co/siebert/sentiment-roberta-large-english (Hugging Face web)\n",
    "\n",
    "According to the brief of the refered documentation that the model i am going to load here for sentiment analysis is called SiEBERT, this model is also Roberta based but the version that further fine-tuned and evaluated on 15 datasets from diverse text sources to improve generalization across various types of texts (reviews, tweets, etc.), due to scarcity of my dataset with ground true label, those pretrained and fine-tuned models would be suitable for me to test.\n",
    "\n",
    "This model does binary sentiment analysis so i can use Hugging Face pipeline to make make prediction easy.\n",
    "\n",
    "This model also claimed to be better than DistilBERT-based model that i will test it as well.\n",
    "\n",
    "\n",
    "Citation as required on the web ( do it in my final report as well): \n",
    "@article{hartmann2023,\n",
    "\n",
    "title = {More than a Feeling: Accuracy and Application of Sentiment Analysis},\n",
    "\n",
    "journal = {International Journal of Research in Marketing},\n",
    "\n",
    "volume = {40},\n",
    "\n",
    "number = {1},\n",
    "\n",
    "pages = {75-87},\n",
    "\n",
    "year = {2023},\n",
    "\n",
    "doi = {https://doi.org/10.1016/j.ijresmar.2022.05.005},\n",
    "\n",
    "url = {https://www.sciencedirect.com/science/article/pii/S0167811622000477},\n",
    "\n",
    "author = {Jochen Hartmann and Mark Heitmann and Christian Siebert and Christina Schamp},\n",
    "\n",
    "}"
   ]
  },
  {
   "cell_type": "code",
   "execution_count": 119,
   "id": "33dda4af",
   "metadata": {},
   "outputs": [],
   "source": [
    "sentiment_analysis = pipeline(\"sentiment-analysis\",model=\"siebert/sentiment-roberta-large-english\")"
   ]
  },
  {
   "cell_type": "code",
   "execution_count": 120,
   "id": "486acca7",
   "metadata": {},
   "outputs": [],
   "source": [
    "df_FineTuned_Diversity_SiEBERT = df_no_missing_column.copy()\n",
    "# Apply sentiment analysis on headline column\n",
    "df_FineTuned_Diversity_SiEBERT['FineTuned_Diversity_SiEBERT_Headlines_Predicted_Label'] = df_FineTuned_Diversity_SiEBERT['Headlines'].apply(lambda x: sentiment_analysis(x)[0]['label'].lower())\n",
    "\n",
    "# Apply sentiment analysis on Tag Text column\n",
    "df_FineTuned_Diversity_SiEBERT['FineTuned_Diversity_SiEBERT_Tag Text_Predicted_Label'] = df_FineTuned_Diversity_SiEBERT['Tag Text'].apply(lambda x: sentiment_analysis(x)[0]['label'].lower())"
   ]
  },
  {
   "cell_type": "markdown",
   "id": "08a8a94e",
   "metadata": {},
   "source": [
    "Evaluate the predictions of headlines"
   ]
  },
  {
   "cell_type": "code",
   "execution_count": 121,
   "id": "3b5c14c6",
   "metadata": {},
   "outputs": [],
   "source": [
    "FineTuned_Diversity_SiEBERT_headline_accuracy = accuracy_score(df_FineTuned_Diversity_SiEBERT['True_Label'], df_FineTuned_Diversity_SiEBERT['FineTuned_Diversity_SiEBERT_Headlines_Predicted_Label'])\n",
    "FineTuned_Diversity_SiEBERT_headline_precision = precision_score(df_FineTuned_Diversity_SiEBERT['True_Label'], df_FineTuned_Diversity_SiEBERT['FineTuned_Diversity_SiEBERT_Headlines_Predicted_Label'], average='binary', pos_label='positive')\n",
    "FineTuned_Diversity_SiEBERT_headline_recall = recall_score(df_FineTuned_Diversity_SiEBERT['True_Label'], df_FineTuned_Diversity_SiEBERT['FineTuned_Diversity_SiEBERT_Headlines_Predicted_Label'], average='binary', pos_label='positive')\n",
    "FineTuned_Diversity_SiEBERT_headline_f1 = f1_score(df_FineTuned_Diversity_SiEBERT['True_Label'], df_FineTuned_Diversity_SiEBERT['FineTuned_Diversity_SiEBERT_Headlines_Predicted_Label'], average='binary', pos_label='positive')"
   ]
  },
  {
   "cell_type": "code",
   "execution_count": 122,
   "id": "126c1e10",
   "metadata": {},
   "outputs": [
    {
     "name": "stdout",
     "output_type": "stream",
     "text": [
      "Headline Accuracy: 0.9333333333333333\n",
      "Headline Precision: 0.8440366972477065\n",
      "Headline Recall: 0.989247311827957\n",
      "Headline F1 Score: 0.9108910891089109\n"
     ]
    }
   ],
   "source": [
    "print(\"Headline Accuracy:\", FineTuned_Diversity_SiEBERT_headline_accuracy)\n",
    "print(\"Headline Precision:\", FineTuned_Diversity_SiEBERT_headline_precision)\n",
    "print(\"Headline Recall:\", FineTuned_Diversity_SiEBERT_headline_recall)\n",
    "print(\"Headline F1 Score:\", FineTuned_Diversity_SiEBERT_headline_f1)"
   ]
  },
  {
   "cell_type": "markdown",
   "id": "cd6a0665",
   "metadata": {},
   "source": [
    "Based on the confusion matrix for headlines, the number of false positive examples is 17 times greater than false negative examples, which suggests that this Roberta based model fine-tuned by diverse text sources is weaker at classifing true negative examples."
   ]
  },
  {
   "cell_type": "code",
   "execution_count": 123,
   "id": "1dd09585",
   "metadata": {},
   "outputs": [
    {
     "data": {
      "image/png": "[encoded data removed]",
      "text/plain": [
       "<Figure size 432x288 with 2 Axes>"
      ]
     },
     "metadata": {
      "needs_background": "light"
     },
     "output_type": "display_data"
    }
   ],
   "source": [
    "# plot_confusion_matrix\n",
    "cm = confusion_matrix(df_FineTuned_Diversity_SiEBERT['True_Label'], df_FineTuned_Diversity_SiEBERT['FineTuned_Diversity_SiEBERT_Headlines_Predicted_Label'])\n",
    "disp = ConfusionMatrixDisplay(confusion_matrix=cm)\n",
    "disp.plot();"
   ]
  },
  {
   "cell_type": "markdown",
   "id": "9a9c96f1",
   "metadata": {},
   "source": [
    "Evaluate the predictions of tag text"
   ]
  },
  {
   "cell_type": "code",
   "execution_count": 124,
   "id": "5af5a5b7",
   "metadata": {},
   "outputs": [],
   "source": [
    "FineTuned_Diversity_SiEBERT_TagText_accuracy = accuracy_score(df_FineTuned_Diversity_SiEBERT['True_Label'], df_FineTuned_Diversity_SiEBERT['FineTuned_Diversity_SiEBERT_Tag Text_Predicted_Label'])\n",
    "FineTuned_Diversity_SiEBERT_TagText_precision = precision_score(df_FineTuned_Diversity_SiEBERT['True_Label'], df_FineTuned_Diversity_SiEBERT['FineTuned_Diversity_SiEBERT_Tag Text_Predicted_Label'], average='binary', pos_label='positive')\n",
    "FineTuned_Diversity_SiEBERT_TagText_recall = recall_score(df_FineTuned_Diversity_SiEBERT['True_Label'], df_FineTuned_Diversity_SiEBERT['FineTuned_Diversity_SiEBERT_Tag Text_Predicted_Label'], average='binary', pos_label='positive')\n",
    "FineTuned_Diversity_SiEBERT_TagText_f1 = f1_score(df_FineTuned_Diversity_SiEBERT['True_Label'], df_FineTuned_Diversity_SiEBERT['FineTuned_Diversity_SiEBERT_Tag Text_Predicted_Label'], average='binary', pos_label='positive')"
   ]
  },
  {
   "cell_type": "code",
   "execution_count": 125,
   "id": "93980e56",
   "metadata": {},
   "outputs": [
    {
     "name": "stdout",
     "output_type": "stream",
     "text": [
      "Tag text Accuracy: 0.8037037037037037\n",
      "Tag text Precision: 0.6612903225806451\n",
      "Tag text Recall: 0.8817204301075269\n",
      "Tag text F1 Score: 0.7557603686635945\n"
     ]
    }
   ],
   "source": [
    "print(\"Tag text Accuracy:\", FineTuned_Diversity_SiEBERT_TagText_accuracy)\n",
    "print(\"Tag text Precision:\", FineTuned_Diversity_SiEBERT_TagText_precision)\n",
    "print(\"Tag text Recall:\", FineTuned_Diversity_SiEBERT_TagText_recall)\n",
    "print(\"Tag text F1 Score:\", FineTuned_Diversity_SiEBERT_TagText_f1)"
   ]
  },
  {
   "cell_type": "markdown",
   "id": "754f06ec",
   "metadata": {},
   "source": [
    "Based on the confusion matrix for tagtext, the number of false positive is greater than number of false negative examples and the number of correctly classifed examples are less than the coreectly classified examples in headlines."
   ]
  },
  {
   "cell_type": "code",
   "execution_count": 126,
   "id": "275417c6",
   "metadata": {},
   "outputs": [
    {
     "data": {
      "image/png": "[encoded data removed]",
      "text/plain": [
       "<Figure size 432x288 with 2 Axes>"
      ]
     },
     "metadata": {
      "needs_background": "light"
     },
     "output_type": "display_data"
    }
   ],
   "source": [
    "# plot_confusion_matrix\n",
    "cm = confusion_matrix(df_FineTuned_Diversity_SiEBERT['True_Label'], df_FineTuned_Diversity_SiEBERT['FineTuned_Diversity_SiEBERT_Tag Text_Predicted_Label'])\n",
    "disp = ConfusionMatrixDisplay(confusion_matrix=cm)\n",
    "disp.plot();"
   ]
  },
  {
   "cell_type": "code",
   "execution_count": 127,
   "id": "5d9838e5",
   "metadata": {},
   "outputs": [
    {
     "data": {
      "image/png": "[encoded data removed]",
      "text/plain": [
       "<Figure size 576x504 with 1 Axes>"
      ]
     },
     "metadata": {
      "needs_background": "light"
     },
     "output_type": "display_data"
    }
   ],
   "source": [
    "Text_Type = ['Head line', 'Tag Text']\n",
    "Accuracy = [FineTuned_Diversity_SiEBERT_headline_accuracy,FineTuned_Diversity_SiEBERT_TagText_accuracy]\n",
    "# Create a figure with two subplots\n",
    "fig, axs = plt.subplots(figsize=(8, 7))\n",
    "\n",
    "# Plot the second bar chart\n",
    "axs.bar(Text_Type, Accuracy)\n",
    "axs.set_xlabel('Text Type')\n",
    "axs.set_ylabel('Accuracy')\n",
    "axs.set_title('The accuracy of classified examples by head line and tag text')\n",
    "axs.set_ylim(ymin=0, ymax=1)\n",
    "# Adjust the spacing between subplots\n",
    "plt.tight_layout()\n",
    "\n",
    "# Show the chart\n",
    "plt.show()"
   ]
  },
  {
   "cell_type": "markdown",
   "id": "e94b021b",
   "metadata": {},
   "source": [
    "From the metrics table, we can see that this Roberta based model fine-tuned by diverse text sources is comprehensively performing poor on longer text than short text, almost the performance on tagtext is like 13 percent lower than headlines.\n",
    "\n",
    "The performance of this Roberta based model fine-tuned by diverse text sources on headline text is different from Tag text, from the table we can see that it performs better in terms of headline text, headline text is much shorter than Tag text(a piece of text in news content)."
   ]
  },
  {
   "cell_type": "code",
   "execution_count": 128,
   "id": "f4d3b442",
   "metadata": {},
   "outputs": [
    {
     "name": "stdout",
     "output_type": "stream",
     "text": [
      "╒════╤═══════════╤═════════════════╤════════════╕\n",
      "│    │ Metrics   │   Headline text │   Tag text │\n",
      "╞════╪═══════════╪═════════════════╪════════════╡\n",
      "│  0 │ Accuracy  │        0.907407 │   0.814815 │\n",
      "├────┼───────────┼─────────────────┼────────────┤\n",
      "│  1 │ Precision │        0.904762 │   0.786667 │\n",
      "├────┼───────────┼─────────────────┼────────────┤\n",
      "│  2 │ Recall    │        0.817204 │   0.634409 │\n",
      "├────┼───────────┼─────────────────┼────────────┤\n",
      "│  3 │ F1 Score  │        0.858757 │   0.702381 │\n",
      "╘════╧═══════════╧═════════════════╧════════════╛\n"
     ]
    }
   ],
   "source": [
    "\n",
    "Metrics = [[\"Accuracy\", FineTuned_Diversity_SiEBERT_headline_accuracy,FineTuned_Diversity_SiEBERT_TagText_accuracy], \n",
    "        [\"Precision\", FineTuned_Diversity_SiEBERT_headline_precision,FineTuned_Diversity_SiEBERT_TagText_precision], \n",
    "        [\"Recall\", FineTuned_Diversity_SiEBERT_headline_recall,FineTuned_Diversity_SiEBERT_TagText_recall], \n",
    "        [\"F1 Score\", FineTuned_Diversity_SiEBERT_headline_f1,FineTuned_Diversity_SiEBERT_TagText_f1]]\n",
    "  \n",
    "\n",
    "col_names = [\"Metrics\", \"Headline text\", \"Tag text\"]\n",
    "  \n",
    "\n",
    "print(tabulate(metrics, headers=col_names, tablefmt=\"fancy_grid\", showindex=\"always\"))"
   ]
  },
  {
   "cell_type": "code",
   "execution_count": 132,
   "id": "381e8cb5",
   "metadata": {},
   "outputs": [
    {
     "name": "stdout",
     "output_type": "stream",
     "text": [
      "╒════╤═══════════╤═════════════════╤════════════╕\n",
      "│    │ Metrics   │   Headline text │   Tag text │\n",
      "╞════╪═══════════╪═════════════════╪════════════╡\n",
      "│  0 │ Accuracy  │        0.933333 │   0.803704 │\n",
      "├────┼───────────┼─────────────────┼────────────┤\n",
      "│  1 │ Precision │        0.844037 │   0.66129  │\n",
      "├────┼───────────┼─────────────────┼────────────┤\n",
      "│  2 │ Recall    │        0.989247 │   0.88172  │\n",
      "├────┼───────────┼─────────────────┼────────────┤\n",
      "│  3 │ F1 Score  │        0.910891 │   0.75576  │\n",
      "╘════╧═══════════╧═════════════════╧════════════╛\n"
     ]
    }
   ],
   "source": [
    "\n",
    "m = [[\"Accuracy\", FineTuned_Diversity_SiEBERT_headline_accuracy,FineTuned_Diversity_SiEBERT_TagText_accuracy], \n",
    "        [\"Precision\", FineTuned_Diversity_SiEBERT_headline_precision,FineTuned_Diversity_SiEBERT_TagText_precision], \n",
    "        [\"Recall\", FineTuned_Diversity_SiEBERT_headline_recall,FineTuned_Diversity_SiEBERT_TagText_recall], \n",
    "        [\"F1 Score\", FineTuned_Diversity_SiEBERT_headline_f1,FineTuned_Diversity_SiEBERT_TagText_f1]]\n",
    "  \n",
    "\n",
    "col_names = [\"Metrics\", \"Headline text\", \"Tag text\"]\n",
    "  \n",
    "\n",
    "print(tabulate(m, headers=col_names, tablefmt=\"fancy_grid\", showindex=\"always\"))"
   ]
  },
  {
   "cell_type": "markdown",
   "id": "f3410c0a",
   "metadata": {},
   "source": [
    "Refered the documentation and notebook from https://huggingface.co/distilbert/distilbert-base-uncased-finetuned-sst-2-english#training (Hugging Face web)\n",
    "\n",
    "According to the brief of the refered documentation that the model i am going to load here for sentiment analysis is called distilbert, this model is also BERT based but distilled version of BERT that featured with  Smaller, faster, cheaper, lighter. Thus model fine-tuned by Stanford Sentiment Treebank(sst2) corpora, due to scarcity of my dataset with ground true label, those pretrained and fine-tuned models would be suitable for me to test.\n",
    "\n",
    "This model does binary sentiment analysis so i can use Hugging Face pipeline to make make prediction easy."
   ]
  },
  {
   "cell_type": "code",
   "execution_count": 65,
   "id": "fd3b5021",
   "metadata": {},
   "outputs": [],
   "source": [
    "import torch\n",
    "from transformers import DistilBertTokenizer, DistilBertForSequenceClassification"
   ]
  },
  {
   "cell_type": "code",
   "execution_count": 66,
   "id": "7fa69f0f",
   "metadata": {},
   "outputs": [],
   "source": [
    "def distilbert_sentiment_analysis(text):\n",
    "    \n",
    "    tokenizer = DistilBertTokenizer.from_pretrained(\"distilbert-base-uncased-finetuned-sst-2-english\")\n",
    "    model = DistilBertForSequenceClassification.from_pretrained(\"distilbert-base-uncased-finetuned-sst-2-english\")\n",
    "\n",
    "    inputs = tokenizer(text, return_tensors=\"pt\")\n",
    "    with torch.no_grad():\n",
    "        logits = model(**inputs).logits\n",
    "\n",
    "    predicted_class_id = logits.argmax().item()\n",
    "    return model.config.id2label[predicted_class_id]\n",
    "    "
   ]
  },
  {
   "cell_type": "code",
   "execution_count": 67,
   "id": "f6c55168",
   "metadata": {},
   "outputs": [],
   "source": [
    "df_stanford_Sentiment_Treebank_distilbert = df_no_missing_column.copy()\n",
    "# Apply sentiment analysis on headline column\n",
    "df_stanford_Sentiment_Treebank_distilbert['Stanford_Sentiment_Treebank_distilbert_Headlines_Predicted_Label'] = df_stanford_Sentiment_Treebank_distilbert['Headlines'].apply(lambda x: distilbert_sentiment_analysis(x).lower())\n",
    "\n",
    "# Apply sentiment analysis on Tag Text column\n",
    "df_stanford_Sentiment_Treebank_distilbert['Stanford_Sentiment_Treebank_distilbert_Tag Text_Predicted_Label'] = df_stanford_Sentiment_Treebank_distilbert['Tag Text'].apply(lambda x: distilbert_sentiment_analysis(x).lower())"
   ]
  },
  {
   "cell_type": "markdown",
   "id": "009742c3",
   "metadata": {},
   "source": [
    "Evaluate the predictions of headlines"
   ]
  },
  {
   "cell_type": "code",
   "execution_count": 68,
   "id": "1a53a6af",
   "metadata": {},
   "outputs": [],
   "source": [
    "distilbert_headline_accuracy = accuracy_score(df_stanford_Sentiment_Treebank_distilbert['True_Label'], df_stanford_Sentiment_Treebank_distilbert['Stanford_Sentiment_Treebank_distilbert_Headlines_Predicted_Label'])\n",
    "distilbert_headline_precision = precision_score(df_stanford_Sentiment_Treebank_distilbert['True_Label'], df_stanford_Sentiment_Treebank_distilbert['Stanford_Sentiment_Treebank_distilbert_Headlines_Predicted_Label'], average='binary', pos_label='positive')\n",
    "distilbert_headline_recall = recall_score(df_stanford_Sentiment_Treebank_distilbert['True_Label'], df_stanford_Sentiment_Treebank_distilbert['Stanford_Sentiment_Treebank_distilbert_Headlines_Predicted_Label'], average='binary', pos_label='positive')\n",
    "distilbert_headline_f1 = f1_score(df_stanford_Sentiment_Treebank_distilbert['True_Label'], df_stanford_Sentiment_Treebank_distilbert['Stanford_Sentiment_Treebank_distilbert_Headlines_Predicted_Label'], average='binary', pos_label='positive')"
   ]
  },
  {
   "cell_type": "code",
   "execution_count": 69,
   "id": "dca20ed1",
   "metadata": {},
   "outputs": [
    {
     "name": "stdout",
     "output_type": "stream",
     "text": [
      "Headline Accuracy: 0.9074074074074074\n",
      "Headline Precision: 0.9047619047619048\n",
      "Headline Recall: 0.8172043010752689\n",
      "Headline F1 Score: 0.8587570621468926\n"
     ]
    }
   ],
   "source": [
    "print(\"Headline Accuracy:\", distilbert_headline_accuracy)\n",
    "print(\"Headline Precision:\", distilbert_headline_precision)\n",
    "print(\"Headline Recall:\", distilbert_headline_recall)\n",
    "print(\"Headline F1 Score:\", distilbert_headline_f1)"
   ]
  },
  {
   "cell_type": "markdown",
   "id": "d0392571",
   "metadata": {},
   "source": [
    "Based on the confusion matrix for headlines, the number of false negative examples is 2 times greater than false positive examples, which suggests that this distilled bert fine-tuned by Stanford Sentiment Treebank(sst2) corpora is weaker at classifing true positive examples."
   ]
  },
  {
   "cell_type": "code",
   "execution_count": 70,
   "id": "bc5dbfb4",
   "metadata": {},
   "outputs": [
    {
     "data": {
      "image/png": "[encoded data removed]",
      "text/plain": [
       "<Figure size 432x288 with 2 Axes>"
      ]
     },
     "metadata": {
      "needs_background": "light"
     },
     "output_type": "display_data"
    }
   ],
   "source": [
    "# plot_confusion_matrix\n",
    "cm = confusion_matrix(df_stanford_Sentiment_Treebank_distilbert['True_Label'], df_stanford_Sentiment_Treebank_distilbert['Stanford_Sentiment_Treebank_distilbert_Headlines_Predicted_Label'])\n",
    "disp = ConfusionMatrixDisplay(confusion_matrix=cm)\n",
    "disp.plot();"
   ]
  },
  {
   "cell_type": "markdown",
   "id": "e8b0b0bd",
   "metadata": {},
   "source": [
    "Evaluate the predictions of tag text"
   ]
  },
  {
   "cell_type": "code",
   "execution_count": 71,
   "id": "dded51c9",
   "metadata": {},
   "outputs": [],
   "source": [
    "distilbert_TagText_accuracy = accuracy_score(df_stanford_Sentiment_Treebank_distilbert['True_Label'], df_stanford_Sentiment_Treebank_distilbert['Stanford_Sentiment_Treebank_distilbert_Tag Text_Predicted_Label'])\n",
    "distilbert_TagText_precision = precision_score(df_stanford_Sentiment_Treebank_distilbert['True_Label'], df_stanford_Sentiment_Treebank_distilbert['Stanford_Sentiment_Treebank_distilbert_Tag Text_Predicted_Label'], average='binary', pos_label='positive')\n",
    "distilbert_TagText_recall = recall_score(df_stanford_Sentiment_Treebank_distilbert['True_Label'], df_stanford_Sentiment_Treebank_distilbert['Stanford_Sentiment_Treebank_distilbert_Tag Text_Predicted_Label'], average='binary', pos_label='positive')\n",
    "distilbert_TagText_f1 = f1_score(df_stanford_Sentiment_Treebank_distilbert['True_Label'], df_stanford_Sentiment_Treebank_distilbert['Stanford_Sentiment_Treebank_distilbert_Tag Text_Predicted_Label'], average='binary', pos_label='positive')"
   ]
  },
  {
   "cell_type": "code",
   "execution_count": 72,
   "id": "63788c4e",
   "metadata": {},
   "outputs": [
    {
     "name": "stdout",
     "output_type": "stream",
     "text": [
      "Tag text Accuracy: 0.8148148148148148\n",
      "Tag text Precision: 0.7866666666666666\n",
      "Tag text Recall: 0.6344086021505376\n",
      "Tag text F1 Score: 0.7023809523809524\n"
     ]
    }
   ],
   "source": [
    "print(\"Tag text Accuracy:\", distilbert_TagText_accuracy)\n",
    "print(\"Tag text Precision:\", distilbert_TagText_precision)\n",
    "print(\"Tag text Recall:\", distilbert_TagText_recall)\n",
    "print(\"Tag text F1 Score:\", distilbert_TagText_f1)"
   ]
  },
  {
   "cell_type": "markdown",
   "id": "4a796190",
   "metadata": {},
   "source": [
    "Based on the confusion matrix for tagtext, the number of false negative is greater than number of false positive examples and the number of correctly classifed examples are less than the correctly classified examples in headlines."
   ]
  },
  {
   "cell_type": "code",
   "execution_count": 73,
   "id": "7ac07689",
   "metadata": {},
   "outputs": [
    {
     "data": {
      "image/png": "[encoded data removed]",
      "text/plain": [
       "<Figure size 432x288 with 2 Axes>"
      ]
     },
     "metadata": {
      "needs_background": "light"
     },
     "output_type": "display_data"
    }
   ],
   "source": [
    "# plot_confusion_matrix\n",
    "cm = confusion_matrix(df_stanford_Sentiment_Treebank_distilbert['True_Label'], df_stanford_Sentiment_Treebank_distilbert['Stanford_Sentiment_Treebank_distilbert_Tag Text_Predicted_Label'])\n",
    "disp = ConfusionMatrixDisplay(confusion_matrix=cm)\n",
    "disp.plot();"
   ]
  },
  {
   "cell_type": "code",
   "execution_count": 74,
   "id": "c3ce1cd3",
   "metadata": {},
   "outputs": [
    {
     "data": {
      "image/png": "[encoded data removed]",
      "text/plain": [
       "<Figure size 576x504 with 1 Axes>"
      ]
     },
     "metadata": {
      "needs_background": "light"
     },
     "output_type": "display_data"
    }
   ],
   "source": [
    "Text_Type = ['Head line', 'Tag Text']\n",
    "Accuracy = [distilbert_headline_accuracy,distilbert_TagText_accuracy]\n",
    "\n",
    "fig, axs = plt.subplots(figsize=(8, 7))\n",
    "\n",
    "\n",
    "axs.bar(Text_Type, Accuracy)\n",
    "axs.set_xlabel('Text Type')\n",
    "axs.set_ylabel('Accuracy')\n",
    "axs.set_title('The accuracy of classified examples by head line and tag text')\n",
    "axs.set_ylim(ymin=0, ymax=1)\n",
    "plt.tight_layout()\n",
    "\n",
    "# Show the chart\n",
    "plt.show()"
   ]
  },
  {
   "cell_type": "markdown",
   "id": "cd1cd71c",
   "metadata": {},
   "source": [
    "From the metrics table, we can see that this Roberta based model fine-tuned by diverse text sources is comprehensively performing poor on longer text than short text, almost the performance on tagtext is like 13 percent lower than headlines.\n",
    "\n",
    "The performance of this distilled bert fine-tuned by Stanford Sentiment Treebank(sst2) corpora is different from Tag text, from the table we can see that it performs better in terms of headline text, headline text is much shorter than Tag text(a piece of text in news content)."
   ]
  },
  {
   "cell_type": "code",
   "execution_count": 75,
   "id": "0f0be202",
   "metadata": {},
   "outputs": [
    {
     "name": "stdout",
     "output_type": "stream",
     "text": [
      "╒════╤═══════════╤═════════════════╤════════════╕\n",
      "│    │ Metrics   │   Headline text │   Tag text │\n",
      "╞════╪═══════════╪═════════════════╪════════════╡\n",
      "│  0 │ Accuracy  │        0.907407 │   0.814815 │\n",
      "├────┼───────────┼─────────────────┼────────────┤\n",
      "│  1 │ Precision │        0.904762 │   0.786667 │\n",
      "├────┼───────────┼─────────────────┼────────────┤\n",
      "│  2 │ Recall    │        0.817204 │   0.634409 │\n",
      "├────┼───────────┼─────────────────┼────────────┤\n",
      "│  3 │ F1 Score  │        0.858757 │   0.702381 │\n",
      "╘════╧═══════════╧═════════════════╧════════════╛\n"
     ]
    }
   ],
   "source": [
    "from tabulate import tabulate\n",
    "\n",
    "metrics = [[\"Accuracy\", distilbert_headline_accuracy,distilbert_TagText_accuracy], \n",
    "        [\"Precision\", distilbert_headline_precision,distilbert_TagText_precision], \n",
    "        [\"Recall\", distilbert_headline_recall,distilbert_TagText_recall], \n",
    "        [\"F1 Score\", distilbert_headline_f1,distilbert_TagText_f1]]\n",
    "  \n",
    "\n",
    "col_names = [\"Metrics\", \"Headline text\",\"Tag text\"]\n",
    "  \n",
    "\n",
    "print(tabulate(metrics, headers=col_names, tablefmt=\"fancy_grid\", showindex=\"always\"))"
   ]
  },
  {
   "cell_type": "markdown",
   "id": "9d812f06",
   "metadata": {},
   "source": [
    "###### Get the SiEBERT dataframe that only contain misclassified examples for further analysis"
   ]
  },
  {
   "cell_type": "code",
   "execution_count": 76,
   "id": "294973c3",
   "metadata": {},
   "outputs": [],
   "source": [
    "SiEBERT_misclassified_headlines = df_FineTuned_Diversity_SiEBERT[df_FineTuned_Diversity_SiEBERT['FineTuned_Diversity_SiEBERT_Headlines_Predicted_Label'] != df_FineTuned_Diversity_SiEBERT['True_Label']]\n",
    "SiEBERT_misclassified_tagtext = df_FineTuned_Diversity_SiEBERT[df_FineTuned_Diversity_SiEBERT['FineTuned_Diversity_SiEBERT_Headlines_Predicted_Label'] != df_FineTuned_Diversity_SiEBERT['True_Label']]"
   ]
  },
  {
   "cell_type": "code",
   "execution_count": 77,
   "id": "c85e3906",
   "metadata": {},
   "outputs": [],
   "source": [
    "SiEBERT_misclassified_false_positive_headlines_words = df_FineTuned_Diversity_SiEBERT[(df_FineTuned_Diversity_SiEBERT['FineTuned_Diversity_SiEBERT_Headlines_Predicted_Label'] == 'positive') & (df_FineTuned_Diversity_SiEBERT['True_Label'] == 'negative')]\n",
    "SiEBERT_misclassified_false_negative_headlines_words = df_FineTuned_Diversity_SiEBERT[(df_FineTuned_Diversity_SiEBERT['FineTuned_Diversity_SiEBERT_Headlines_Predicted_Label'] == 'negative') & (df_FineTuned_Diversity_SiEBERT['True_Label'] == 'positive')]"
   ]
  },
  {
   "cell_type": "code",
   "execution_count": 78,
   "id": "27dff131",
   "metadata": {},
   "outputs": [],
   "source": [
    "SiEBERT_misclassified_false_positive_tagtext_words = df_FineTuned_Diversity_SiEBERT[(df_FineTuned_Diversity_SiEBERT['FineTuned_Diversity_SiEBERT_Headlines_Predicted_Label'] == 'positive') & (df_FineTuned_Diversity_SiEBERT['True_Label'] == 'negative')]\n",
    "SiEBERT_misclassified_false_negative_tagtext_words = df_FineTuned_Diversity_SiEBERT[(df_FineTuned_Diversity_SiEBERT['FineTuned_Diversity_SiEBERT_Headlines_Predicted_Label'] == 'negative') & (df_FineTuned_Diversity_SiEBERT['True_Label'] == 'positive')]"
   ]
  },
  {
   "cell_type": "code",
   "execution_count": 79,
   "id": "bac1dd32",
   "metadata": {},
   "outputs": [],
   "source": [
    "from nltk.corpus import stopwords\n",
    "from nltk.tokenize import word_tokenize\n",
    "from collections import Counter\n",
    "import seaborn as sns\n",
    "stop_words = set(stopwords.words('english'))\n",
    "stop_words = [\"https\",\".com\",\"'s\",\"'\",'.','?',',',':','-','\\x80','...','(',')'] + list(stop_words)"
   ]
  },
  {
   "cell_type": "code",
   "execution_count": 80,
   "id": "392a49fb",
   "metadata": {},
   "outputs": [],
   "source": [
    "def Common_words_plot(misclassified_df,text_type,common_words_number,title):\n",
    "    misclassified_words = [word_tokenize(text.lower()) for text in misclassified_df[text_type]]\n",
    "    words_list = [item for sublist in misclassified_words for item in sublist]\n",
    "    \n",
    "    # Filter out stop words from word list\n",
    "    filtered_words_list = [word for word in words_list if word not in stop_words]\n",
    "    word_freq = Counter(filtered_words_list)\n",
    "    # Plotting the most common words in misclassified texts\n",
    "    common_words = word_freq.most_common(common_words_number)\n",
    "    print(common_words)\n",
    "    words, frequencies = zip(*common_words)\n",
    "\n",
    "    plt.figure(figsize=(10, 8))\n",
    "    sns.barplot(list(frequencies), list(words))\n",
    "    plt.title('Most Common Words in ' + title)\n",
    "    plt.xlabel('Frequency')\n",
    "    plt.ylabel('Word')\n",
    "    plt.show()\n",
    "    return common_words"
   ]
  },
  {
   "cell_type": "code",
   "execution_count": 81,
   "id": "a4bdd1a3",
   "metadata": {},
   "outputs": [
    {
     "name": "stdout",
     "output_type": "stream",
     "text": [
      "[('ritual', 16), ('police', 3), ('child', 2), ('money', 2), ('satanic', 2), ('ogun', 2), ('nigeria', 2), ('killings', 2), ('poland', 1), ('kaczynski', 1), ('ends', 1), ('monthly', 1), ('air', 1), ('crash', 1), ('memory', 1), ('twin', 1), ('peru', 1), ('unearths', 1), ('evidence', 1), ('ancient', 1)]\n"
     ]
    },
    {
     "name": "stderr",
     "output_type": "stream",
     "text": [
      "C:\\ProgramData\\Anaconda3\\lib\\site-packages\\seaborn\\_decorators.py:36: FutureWarning: Pass the following variables as keyword args: x, y. From version 0.12, the only valid positional argument will be `data`, and passing other arguments without an explicit keyword will result in an error or misinterpretation.\n",
      "  warnings.warn(\n"
     ]
    },
    {
     "data": {
      "image/png": "[encoded data removed]",
      "text/plain": [
       "<Figure size 720x576 with 1 Axes>"
      ]
     },
     "metadata": {
      "needs_background": "light"
     },
     "output_type": "display_data"
    }
   ],
   "source": [
    "cw = Common_words_plot(SiEBERT_misclassified_false_positive_headlines_words,'Headlines',20,'misclassified false positive headlines')"
   ]
  },
  {
   "cell_type": "code",
   "execution_count": 82,
   "id": "aa3be35e",
   "metadata": {},
   "outputs": [
    {
     "data": {
      "image/png": "[encoded data removed]",
      "text/plain": [
       "<Figure size 720x432 with 1 Axes>"
      ]
     },
     "metadata": {
      "needs_background": "light"
     },
     "output_type": "display_data"
    }
   ],
   "source": [
    "# Example list of common words from false positives\n",
    "common_words = [tuple[0] for tuple in cw]\n",
    "\n",
    "# Calculate sentiment scores\n",
    "# sentiments = [sentiment_analysis(word) for word in common_words]\n",
    "\n",
    "sentiments = [{sentiment_analysis(word)[0]['label'].lower() : sentiment_analysis(word)[0]['score']} for word in common_words]\n",
    "# Prepare DataFrame\n",
    "df_sentiments = pd.DataFrame(sentiments, index=common_words)\n",
    "\n",
    "# Plot\n",
    "df_sentiments[['positive', 'negative']].plot(kind='bar', stacked=True, figsize=(10, 6))\n",
    "plt.title('Sentiment Scores of Common Words in False Positives')\n",
    "plt.xlabel('Word')\n",
    "plt.ylabel('Score')\n",
    "plt.legend(title='Sentiment', labels=['Positive', 'Negative'])\n",
    "plt.xticks(rotation=45)\n",
    "plt.show()"
   ]
  },
  {
   "cell_type": "code",
   "execution_count": 83,
   "id": "a7038a53",
   "metadata": {},
   "outputs": [
    {
     "name": "stdout",
     "output_type": "stream",
     "text": [
      "[('rituals', 1), ('keep', 1), ('athletes', 1), ('grounded', 1), ('help', 1), ('parents', 1)]\n"
     ]
    },
    {
     "name": "stderr",
     "output_type": "stream",
     "text": [
      "C:\\ProgramData\\Anaconda3\\lib\\site-packages\\seaborn\\_decorators.py:36: FutureWarning: Pass the following variables as keyword args: x, y. From version 0.12, the only valid positional argument will be `data`, and passing other arguments without an explicit keyword will result in an error or misinterpretation.\n",
      "  warnings.warn(\n"
     ]
    },
    {
     "data": {
      "image/png": "[encoded data removed]",
      "text/plain": [
       "<Figure size 720x576 with 1 Axes>"
      ]
     },
     "metadata": {
      "needs_background": "light"
     },
     "output_type": "display_data"
    }
   ],
   "source": [
    "cw = Common_words_plot(SiEBERT_misclassified_false_negative_headlines_words,'Headlines',20,'misclassified false negative headlines')"
   ]
  },
  {
   "cell_type": "markdown",
   "id": "489c2f39",
   "metadata": {},
   "source": [
    "Use ngrams from nltk package to do N-grams Analysis: Identify frequent 2-grams in misclassified texts to discover any interesting things in word combinations, especially the headlines composed with relatively small number of words for concisely passing the info which provides more evident contexual understanding in terms of sentiment."
   ]
  },
  {
   "cell_type": "code",
   "execution_count": 84,
   "id": "6159691c",
   "metadata": {},
   "outputs": [],
   "source": [
    "from nltk import ngrams"
   ]
  },
  {
   "cell_type": "markdown",
   "id": "b24ddd40",
   "metadata": {},
   "source": [
    "Analysis on false positive headlines cases"
   ]
  },
  {
   "cell_type": "code",
   "execution_count": 85,
   "id": "154f81c1",
   "metadata": {},
   "outputs": [],
   "source": [
    "misclassified_words = [word_tokenize(text.lower()) for text in SiEBERT_misclassified_false_positive_headlines_words['Headlines']]\n",
    "words_list = [item for sublist in misclassified_words for item in sublist]"
   ]
  },
  {
   "cell_type": "code",
   "execution_count": 86,
   "id": "cbbcf900",
   "metadata": {},
   "outputs": [
    {
     "data": {
      "text/plain": [
       "[('poland', \"'s\"),\n",
       " (\"'s\", 'kaczynski'),\n",
       " ('kaczynski', 'ends'),\n",
       " ('ends', 'monthly'),\n",
       " ('monthly', 'air'),\n",
       " ('air', 'crash'),\n",
       " ('crash', 'ritual'),\n",
       " ('ritual', 'in'),\n",
       " ('in', 'memory'),\n",
       " ('memory', 'of'),\n",
       " ('of', 'twin'),\n",
       " ('twin', 'peru'),\n",
       " ('peru', 'unearths'),\n",
       " ('unearths', 'evidence'),\n",
       " ('evidence', 'of'),\n",
       " ('of', 'ancient'),\n",
       " ('ancient', 'mass'),\n",
       " ('mass', 'child'),\n",
       " ('child', 'sacrifice'),\n",
       " ('sacrifice', 'ritual'),\n",
       " ('ritual', 'ghana'),\n",
       " ('ghana', \"'s\"),\n",
       " (\"'s\", 'first'),\n",
       " ('first', 'money'),\n",
       " ('money', 'ritual'),\n",
       " ('ritual', 'church'),\n",
       " ('church', 'emerges'),\n",
       " ('emerges', 'millions'),\n",
       " ('millions', 'of'),\n",
       " ('of', \"shi'ites\"),\n",
       " (\"shi'ites\", 'express'),\n",
       " ('express', 'suffering'),\n",
       " ('suffering', 'in'),\n",
       " ('in', 'ashura'),\n",
       " ('ashura', 'ritual'),\n",
       " ('ritual', 'in'),\n",
       " ('in', 'iraq'),\n",
       " ('iraq', 'mystery'),\n",
       " ('mystery', 'infections'),\n",
       " ('infections', 'traced'),\n",
       " ('traced', 'to'),\n",
       " ('to', 'blood-shedding'),\n",
       " ('blood-shedding', 'religious'),\n",
       " ('religious', 'ritual'),\n",
       " ('ritual', 'incoming'),\n",
       " ('incoming', ':'),\n",
       " (':', 'a'),\n",
       " ('a', 'horrific'),\n",
       " ('horrific', 'and'),\n",
       " ('and', 'specifically'),\n",
       " ('specifically', 'american'),\n",
       " ('american', 'ritual'),\n",
       " ('ritual', 'amid'),\n",
       " ('amid', 'pious'),\n",
       " ('pious', 'protesters'),\n",
       " ('protesters', ','),\n",
       " (',', 'satanists'),\n",
       " ('satanists', 'conduct'),\n",
       " ('conduct', 'a'),\n",
       " ('a', 'ritual'),\n",
       " ('ritual', 'on'),\n",
       " ('on', 'the'),\n",
       " ('the', 'capitol'),\n",
       " ('capitol', 'steps'),\n",
       " ('steps', 'italian'),\n",
       " ('italian', 'nun'),\n",
       " ('nun', 'slain'),\n",
       " ('slain', 'by'),\n",
       " ('by', '3'),\n",
       " ('3', 'teen'),\n",
       " ('teen', 'girls'),\n",
       " ('girls', 'in'),\n",
       " ('in', 'satanic'),\n",
       " ('satanic', 'ritual'),\n",
       " ('ritual', 'beatified'),\n",
       " ('beatified', 'as'),\n",
       " ('as', 'martyr'),\n",
       " ('martyr', 'astroworld'),\n",
       " ('astroworld', 'festival'),\n",
       " ('festival', 'satanic'),\n",
       " ('satanic', 'ritual'),\n",
       " ('ritual', 'conspiracy'),\n",
       " ('conspiracy', 'theories'),\n",
       " ('theories', ','),\n",
       " (',', 'explained'),\n",
       " ('explained', '-'),\n",
       " ('-', 'insider'),\n",
       " ('insider', 'police'),\n",
       " ('police', 'arrest'),\n",
       " ('arrest', 'serial'),\n",
       " ('serial', 'ritual'),\n",
       " ('ritual', 'killer'),\n",
       " ('killer', 'gang'),\n",
       " ('gang', 'in'),\n",
       " ('in', 'ogun'),\n",
       " ('ogun', '|'),\n",
       " ('|', 'the'),\n",
       " ('the', 'guardian'),\n",
       " ('guardian', 'nigeria'),\n",
       " ('nigeria', 'news'),\n",
       " ('news', 'reps'),\n",
       " ('reps', 'declare'),\n",
       " ('declare', 'national'),\n",
       " ('national', 'emergency'),\n",
       " ('emergency', 'on'),\n",
       " ('on', 'ritual'),\n",
       " ('ritual', 'killings'),\n",
       " ('killings', 'in'),\n",
       " ('in', 'nigeria'),\n",
       " ('nigeria', 'deadly'),\n",
       " ('deadly', 'beach'),\n",
       " ('beach', 'ritual'),\n",
       " ('ritual', 'in'),\n",
       " ('in', 'east'),\n",
       " ('east', 'java'),\n",
       " ('java', 'exposes'),\n",
       " ('exposes', 'dark'),\n",
       " ('dark', 'side'),\n",
       " ('side', 'of'),\n",
       " ('of', 'spiritual'),\n",
       " ('spiritual', 'groups'),\n",
       " ('groups', 'in'),\n",
       " ('in', 'what'),\n",
       " ('what', 'we'),\n",
       " ('we', 'know'),\n",
       " ('know', 'about'),\n",
       " ('about', 'ritual'),\n",
       " ('ritual', 'killings'),\n",
       " ('killings', 'for'),\n",
       " ('for', 'money'),\n",
       " ('money', ','),\n",
       " (',', 'juju'),\n",
       " ('juju', 'priests'),\n",
       " ('priests', ','),\n",
       " (',', 'imams'),\n",
       " ('imams', ','),\n",
       " (',', 'pastors'),\n",
       " ('pastors', ','),\n",
       " (',', 'others'),\n",
       " ('others', 'speak'),\n",
       " ('speak', 'witch-hunts'),\n",
       " ('witch-hunts', 'and'),\n",
       " ('and', 'ritual'),\n",
       " ('ritual', 'child'),\n",
       " ('child', 'abuse'),\n",
       " ('abuse', 'are'),\n",
       " ('are', 'a'),\n",
       " ('a', 'stain'),\n",
       " ('stain', 'on'),\n",
       " ('on', 'africa'),\n",
       " ('africa', '.'),\n",
       " ('.', 'we'),\n",
       " ('we', 'must'),\n",
       " ('must', 'confront'),\n",
       " ('confront', 'them'),\n",
       " ('them', 'what'),\n",
       " ('what', \"'s\"),\n",
       " (\"'s\", 'behind'),\n",
       " ('behind', 'the'),\n",
       " ('the', 'debate'),\n",
       " ('debate', 'on'),\n",
       " ('on', 'ritual'),\n",
       " ('ritual', 'slaughter'),\n",
       " ('slaughter', 'in'),\n",
       " ('in', 'belgium'),\n",
       " ('belgium', '?'),\n",
       " ('?', '-'),\n",
       " ('-', 'the'),\n",
       " ('the', 'jerusalem'),\n",
       " ('jerusalem', 'ogun'),\n",
       " ('ogun', 'police'),\n",
       " ('police', 'confirm'),\n",
       " ('confirm', 'report'),\n",
       " ('report', 'on'),\n",
       " ('on', 'lady'),\n",
       " ('lady', 'allegedly'),\n",
       " ('allegedly', 'used'),\n",
       " ('used', 'for'),\n",
       " ('for', 'ritual'),\n",
       " ('ritual', 'police'),\n",
       " ('police', 'give'),\n",
       " ('give', 'more'),\n",
       " ('more', 'details'),\n",
       " ('details', 'about'),\n",
       " ('about', '20'),\n",
       " ('20', 'corpses'),\n",
       " ('corpses', 'dem'),\n",
       " ('dem', 'find'),\n",
       " ('find', 'for'),\n",
       " ('for', \"'ritual\"),\n",
       " (\"'ritual\", 'shrine'),\n",
       " ('shrine', \"'\"),\n",
       " (\"'\", '-')]"
      ]
     },
     "execution_count": 86,
     "metadata": {},
     "output_type": "execute_result"
    }
   ],
   "source": [
    "n = 2  # n grams parameter\n",
    "n_grams = ngrams(words_list, n)\n",
    "n_grams = list(n_grams)\n",
    "n_grams"
   ]
  },
  {
   "cell_type": "code",
   "execution_count": 87,
   "id": "a59d7720",
   "metadata": {},
   "outputs": [
    {
     "name": "stdout",
     "output_type": "stream",
     "text": [
      "                  n-gram  Frequency\n",
      "0           (ritual, in)          3\n",
      "1      (satanic, ritual)          2\n",
      "2           (on, ritual)          2\n",
      "3     (ritual, killings)          2\n",
      "4           (poland, 's)          1\n",
      "5        ('s, kaczynski)          1\n",
      "6      (kaczynski, ends)          1\n",
      "7        (ends, monthly)          1\n",
      "8         (monthly, air)          1\n",
      "9           (air, crash)          1\n",
      "10       (crash, ritual)          1\n",
      "11          (in, memory)          1\n",
      "12          (memory, of)          1\n",
      "13            (of, twin)          1\n",
      "14          (twin, peru)          1\n",
      "15      (peru, unearths)          1\n",
      "16  (unearths, evidence)          1\n",
      "17        (evidence, of)          1\n",
      "18         (of, ancient)          1\n",
      "19       (ancient, mass)          1\n",
      "20         (mass, child)          1\n",
      "21    (child, sacrifice)          1\n",
      "22   (sacrifice, ritual)          1\n",
      "23       (ritual, ghana)          1\n",
      "24           (ghana, 's)          1\n",
      "25           ('s, first)          1\n",
      "26        (first, money)          1\n",
      "27       (money, ritual)          1\n",
      "28      (ritual, church)          1\n",
      "29     (church, emerges)          1\n"
     ]
    }
   ],
   "source": [
    "n_grams_frequency = Counter(n_grams)\n",
    "most_common_n_grams = n_grams_frequency.most_common(30)  # Adjust the number to see more or fewer common n-grams\n",
    "# Convert to DataFrame for better visualization\n",
    "df_most_common_n_grams = pd.DataFrame(most_common_n_grams, columns=['n-gram', 'Frequency'])\n",
    "print(df_most_common_n_grams)"
   ]
  },
  {
   "cell_type": "markdown",
   "id": "c77fdb1c",
   "metadata": {},
   "source": [
    "Analysis on false negative headlines cases"
   ]
  },
  {
   "cell_type": "code",
   "execution_count": 88,
   "id": "03dd3293",
   "metadata": {},
   "outputs": [
    {
     "data": {
      "text/plain": [
       "[('rituals', 'keep'),\n",
       " ('keep', 'these'),\n",
       " ('these', 'athletes'),\n",
       " ('athletes', 'grounded'),\n",
       " ('grounded', '.'),\n",
       " ('.', 'they'),\n",
       " ('they', 'can'),\n",
       " ('can', 'help'),\n",
       " ('help', 'parents'),\n",
       " ('parents', ','),\n",
       " (',', 'too'),\n",
       " ('too', '.')]"
      ]
     },
     "execution_count": 88,
     "metadata": {},
     "output_type": "execute_result"
    }
   ],
   "source": [
    "misclassified_words = [word_tokenize(text.lower()) for text in SiEBERT_misclassified_false_negative_headlines_words['Headlines']]\n",
    "words_list = [item for sublist in misclassified_words for item in sublist]\n",
    "n = 2  # n grams parameter\n",
    "n_grams = ngrams(words_list, n)\n",
    "n_grams = list(n_grams)\n",
    "n_grams"
   ]
  },
  {
   "cell_type": "code",
   "execution_count": 89,
   "id": "81ddeed8",
   "metadata": {},
   "outputs": [
    {
     "name": "stdout",
     "output_type": "stream",
     "text": [
      "                  n-gram  Frequency\n",
      "0        (rituals, keep)          1\n",
      "1          (keep, these)          1\n",
      "2      (these, athletes)          1\n",
      "3   (athletes, grounded)          1\n",
      "4          (grounded, .)          1\n",
      "5              (., they)          1\n",
      "6            (they, can)          1\n",
      "7            (can, help)          1\n",
      "8        (help, parents)          1\n",
      "9           (parents, ,)          1\n",
      "10              (,, too)          1\n",
      "11              (too, .)          1\n"
     ]
    }
   ],
   "source": [
    "n_grams_frequency = Counter(n_grams)\n",
    "most_common_n_grams = n_grams_frequency.most_common(30)  # Adjust the number to see more or fewer common n-grams\n",
    "\n",
    "df_most_common_n_grams = pd.DataFrame(most_common_n_grams, columns=['n-gram', 'Frequency'])\n",
    "print(df_most_common_n_grams)"
   ]
  },
  {
   "cell_type": "markdown",
   "id": "d835a573",
   "metadata": {},
   "source": [
    "Interesting, unlike vader this tool correctly classified those three ritual as negative, what makes it predict wrong?"
   ]
  },
  {
   "cell_type": "code",
   "execution_count": 184,
   "id": "c1c6a616",
   "metadata": {},
   "outputs": [
    {
     "name": "stdout",
     "output_type": "stream",
     "text": [
      "satanic ritual:\n",
      "[{'label': 'NEGATIVE', 'score': 0.9934653639793396}]\n",
      "money ritual:\n",
      "[{'label': 'NEGATIVE', 'score': 0.989267110824585}]\n",
      "ritual killings:\n",
      "[{'label': 'NEGATIVE', 'score': 0.9969555139541626}]\n",
      "child sacrifice:\n",
      "[{'label': 'NEGATIVE', 'score': 0.9910922646522522}]\n"
     ]
    }
   ],
   "source": [
    "print(\"satanic ritual:\")\n",
    "print(sentiment_analysis('satanic ritual'))\n",
    "print(\"money ritual:\")\n",
    "print(sentiment_analysis('money ritual'))\n",
    "print(\"ritual killings:\")\n",
    "print(sentiment_analysis('ritual killings'))\n",
    "print(\"child sacrifice:\")\n",
    "print(sentiment_analysis('child sacrifice'))"
   ]
  },
  {
   "cell_type": "code",
   "execution_count": 156,
   "id": "e9a8888c",
   "metadata": {},
   "outputs": [
    {
     "data": {
      "text/html": [
       "<div>\n",
       "<style scoped>\n",
       "    .dataframe tbody tr th:only-of-type {\n",
       "        vertical-align: middle;\n",
       "    }\n",
       "\n",
       "    .dataframe tbody tr th {\n",
       "        vertical-align: top;\n",
       "    }\n",
       "\n",
       "    .dataframe thead th {\n",
       "        text-align: right;\n",
       "    }\n",
       "</style>\n",
       "<table border=\"1\" class=\"dataframe\">\n",
       "  <thead>\n",
       "    <tr style=\"text-align: right;\">\n",
       "      <th></th>\n",
       "      <th>Date</th>\n",
       "      <th>Headlines</th>\n",
       "      <th>Author</th>\n",
       "      <th>Tag Text</th>\n",
       "      <th>True_Label</th>\n",
       "      <th>FineTuned_Diversity_SiEBERT_Headlines_Predicted_Label</th>\n",
       "      <th>FineTuned_Diversity_SiEBERT_Tag Text_Predicted_Label</th>\n",
       "    </tr>\n",
       "  </thead>\n",
       "  <tbody>\n",
       "    <tr>\n",
       "      <th>1675</th>\n",
       "      <td>12/06/2021</td>\n",
       "      <td>Italian nun slain by 3 teen girls in Satanic r...</td>\n",
       "      <td>Crux: Covering all things Catholic</td>\n",
       "      <td>Hours before the beatification ceremony in nor...</td>\n",
       "      <td>negative</td>\n",
       "      <td>positive</td>\n",
       "      <td>positive</td>\n",
       "    </tr>\n",
       "    <tr>\n",
       "      <th>1839</th>\n",
       "      <td>13/11/2021</td>\n",
       "      <td>Astroworld Festival Satanic Ritual Conspiracy ...</td>\n",
       "      <td>Insider</td>\n",
       "      <td>Numerous conspiracy theories baselessly claimi...</td>\n",
       "      <td>negative</td>\n",
       "      <td>positive</td>\n",
       "      <td>negative</td>\n",
       "    </tr>\n",
       "  </tbody>\n",
       "</table>\n",
       "</div>"
      ],
      "text/plain": [
       "            Date                                          Headlines  \\\n",
       "1675  12/06/2021  Italian nun slain by 3 teen girls in Satanic r...   \n",
       "1839  13/11/2021  Astroworld Festival Satanic Ritual Conspiracy ...   \n",
       "\n",
       "                                  Author  \\\n",
       "1675  Crux: Covering all things Catholic   \n",
       "1839                             Insider   \n",
       "\n",
       "                                               Tag Text True_Label  \\\n",
       "1675  Hours before the beatification ceremony in nor...   negative   \n",
       "1839  Numerous conspiracy theories baselessly claimi...   negative   \n",
       "\n",
       "     FineTuned_Diversity_SiEBERT_Headlines_Predicted_Label  \\\n",
       "1675                                           positive      \n",
       "1839                                           positive      \n",
       "\n",
       "     FineTuned_Diversity_SiEBERT_Tag Text_Predicted_Label  \n",
       "1675                                           positive    \n",
       "1839                                           negative    "
      ]
     },
     "execution_count": 156,
     "metadata": {},
     "output_type": "execute_result"
    }
   ],
   "source": [
    "# Check if any headline contains 'satanic ritual'\n",
    "filtered_examples = SiEBERT_misclassified_false_positive_headlines_words[SiEBERT_misclassified_false_positive_headlines_words['Headlines'].str.contains('satanic ritual', case=False, na=False)]\n",
    "filtered_examples"
   ]
  },
  {
   "cell_type": "code",
   "execution_count": 157,
   "id": "57af333b",
   "metadata": {},
   "outputs": [
    {
     "data": {
      "text/plain": [
       "'Italian nun slain by 3 teen girls in Satanic ritual beatified as martyr'"
      ]
     },
     "execution_count": 157,
     "metadata": {},
     "output_type": "execute_result"
    }
   ],
   "source": [
    "filtered_examples.iloc[0]['Headlines']"
   ]
  },
  {
   "cell_type": "code",
   "execution_count": 196,
   "id": "5833ce7a",
   "metadata": {},
   "outputs": [
    {
     "name": "stdout",
     "output_type": "stream",
     "text": [
      "Italian nun slain by 3 teen girls in Satanic ritual beatified as martyr: positive\n",
      "Italian nun slain by 3 teen girls in Satanic ritual: negative\n",
      "Italian nun slain by 3 teen girls in Satanic ritual beatified: positive\n",
      "Peru Unearths Evidence of Ancient Mass Child Sacrifice Ritual: positive\n",
      "Evidence of Ancient Mass Child Sacrifice Ritual: negative\n",
      "Unearths Evidence of Ancient Mass Child Sacrifice Ritual: positive\n",
      "Reps declare national emergency on ritual killings in Nigeria: positive\n",
      "Reps declare national emergency on ritual killings: negative\n"
     ]
    }
   ],
   "source": [
    "print('Italian nun slain by 3 teen girls in Satanic ritual beatified as martyr: ' + sentiment_analysis('Italian nun slain by 3 teen girls in Satanic ritual beatified as martyr')[0]['label'].lower())\n",
    "print('Italian nun slain by 3 teen girls in Satanic ritual: ' + sentiment_analysis('Italian nun slain by 3 teen girls in Satanic ritual')[0]['label'].lower())\n",
    "print('Italian nun slain by 3 teen girls in Satanic ritual beatified: ' + sentiment_analysis('Italian nun slain by 3 teen girls in Satanic ritual beatified')[0]['label'].lower())\n",
    "\n",
    "print('Peru Unearths Evidence of Ancient Mass Child Sacrifice Ritual: ' + sentiment_analysis('Peru Unearths Evidence of Ancient Mass Child Sacrifice Ritual')[0]['label'].lower())\n",
    "print('Evidence of Ancient Mass Child Sacrifice Ritual: ' + sentiment_analysis('Evidence of Ancient Mass Child Sacrifice Ritual')[0]['label'].lower())\n",
    "print('Unearths Evidence of Ancient Mass Child Sacrifice Ritual: ' + sentiment_analysis('Unearths Evidence of Ancient Mass Child Sacrifice Ritual')[0]['label'].lower())\n",
    "\n",
    "print('Reps declare national emergency on ritual killings in Nigeria: ' + sentiment_analysis('Reps declare national emergency on ritual killings in Nigeria')[0]['label'].lower())\n",
    "print('Reps declare national emergency on ritual killings: ' + sentiment_analysis('Reps declare national emergency on ritual killings')[0]['label'].lower())"
   ]
  },
  {
   "cell_type": "code",
   "execution_count": 160,
   "id": "d470eaaa",
   "metadata": {},
   "outputs": [
    {
     "data": {
      "text/html": [
       "<div>\n",
       "<style scoped>\n",
       "    .dataframe tbody tr th:only-of-type {\n",
       "        vertical-align: middle;\n",
       "    }\n",
       "\n",
       "    .dataframe tbody tr th {\n",
       "        vertical-align: top;\n",
       "    }\n",
       "\n",
       "    .dataframe thead th {\n",
       "        text-align: right;\n",
       "    }\n",
       "</style>\n",
       "<table border=\"1\" class=\"dataframe\">\n",
       "  <thead>\n",
       "    <tr style=\"text-align: right;\">\n",
       "      <th></th>\n",
       "      <th>Date</th>\n",
       "      <th>Headlines</th>\n",
       "      <th>Author</th>\n",
       "      <th>Tag Text</th>\n",
       "      <th>True_Label</th>\n",
       "      <th>FineTuned_Diversity_SiEBERT_Headlines_Predicted_Label</th>\n",
       "      <th>FineTuned_Diversity_SiEBERT_Tag Text_Predicted_Label</th>\n",
       "    </tr>\n",
       "  </thead>\n",
       "  <tbody>\n",
       "    <tr>\n",
       "      <th>77</th>\n",
       "      <td>28/04/2018</td>\n",
       "      <td>Peru Unearths Evidence of Ancient Mass Child S...</td>\n",
       "      <td>teleSUR tv HTTPS (press release) (blog)</td>\n",
       "      <td>The National Geographic team of experts, led b...</td>\n",
       "      <td>negative</td>\n",
       "      <td>positive</td>\n",
       "      <td>negative</td>\n",
       "    </tr>\n",
       "  </tbody>\n",
       "</table>\n",
       "</div>"
      ],
      "text/plain": [
       "          Date                                          Headlines  \\\n",
       "77  28/04/2018  Peru Unearths Evidence of Ancient Mass Child S...   \n",
       "\n",
       "                                     Author  \\\n",
       "77  teleSUR tv HTTPS (press release) (blog)   \n",
       "\n",
       "                                             Tag Text True_Label  \\\n",
       "77  The National Geographic team of experts, led b...   negative   \n",
       "\n",
       "   FineTuned_Diversity_SiEBERT_Headlines_Predicted_Label  \\\n",
       "77                                           positive      \n",
       "\n",
       "   FineTuned_Diversity_SiEBERT_Tag Text_Predicted_Label  \n",
       "77                                           negative    "
      ]
     },
     "execution_count": 160,
     "metadata": {},
     "output_type": "execute_result"
    }
   ],
   "source": [
    "# Check if any headline contains 'child sacrifice'\n",
    "filtered_examples = SiEBERT_misclassified_false_positive_headlines_words[SiEBERT_misclassified_false_positive_headlines_words['Headlines'].str.contains('child sacrifice', case=False, na=False)]\n",
    "filtered_examples"
   ]
  },
  {
   "cell_type": "code",
   "execution_count": 161,
   "id": "66537d79",
   "metadata": {},
   "outputs": [
    {
     "data": {
      "text/plain": [
       "'Peru Unearths Evidence of Ancient Mass Child Sacrifice Ritual'"
      ]
     },
     "execution_count": 161,
     "metadata": {},
     "output_type": "execute_result"
    }
   ],
   "source": [
    "filtered_examples.iloc[0]['Headlines']"
   ]
  },
  {
   "cell_type": "code",
   "execution_count": 173,
   "id": "f92458e7",
   "metadata": {},
   "outputs": [
    {
     "data": {
      "text/plain": [
       "'negative'"
      ]
     },
     "execution_count": 173,
     "metadata": {},
     "output_type": "execute_result"
    }
   ],
   "source": [
    "sentiment_analysis('Evidence of Ancient Mass Child Sacrifice Ritual')[0]['label'].lower()"
   ]
  },
  {
   "cell_type": "code",
   "execution_count": 174,
   "id": "70bc7da9",
   "metadata": {},
   "outputs": [
    {
     "data": {
      "text/plain": [
       "'positive'"
      ]
     },
     "execution_count": 174,
     "metadata": {},
     "output_type": "execute_result"
    }
   ],
   "source": [
    "sentiment_analysis('Unearths Evidence of Ancient Mass Child Sacrifice Ritual')[0]['label'].lower()"
   ]
  },
  {
   "cell_type": "code",
   "execution_count": 162,
   "id": "4fd7bbf2",
   "metadata": {},
   "outputs": [],
   "source": [
    "# Check if any headline contains 'ritual killings'\n",
    "filtered_examples = SiEBERT_misclassified_false_positive_headlines_words[SiEBERT_misclassified_false_positive_headlines_words['Headlines'].str.contains('ritual killings', case=False, na=False)]"
   ]
  },
  {
   "cell_type": "code",
   "execution_count": 175,
   "id": "8aec984e",
   "metadata": {},
   "outputs": [
    {
     "data": {
      "text/html": [
       "<div>\n",
       "<style scoped>\n",
       "    .dataframe tbody tr th:only-of-type {\n",
       "        vertical-align: middle;\n",
       "    }\n",
       "\n",
       "    .dataframe tbody tr th {\n",
       "        vertical-align: top;\n",
       "    }\n",
       "\n",
       "    .dataframe thead th {\n",
       "        text-align: right;\n",
       "    }\n",
       "</style>\n",
       "<table border=\"1\" class=\"dataframe\">\n",
       "  <thead>\n",
       "    <tr style=\"text-align: right;\">\n",
       "      <th></th>\n",
       "      <th>Date</th>\n",
       "      <th>Headlines</th>\n",
       "      <th>Author</th>\n",
       "      <th>Tag Text</th>\n",
       "      <th>True_Label</th>\n",
       "      <th>FineTuned_Diversity_SiEBERT_Headlines_Predicted_Label</th>\n",
       "      <th>FineTuned_Diversity_SiEBERT_Tag Text_Predicted_Label</th>\n",
       "    </tr>\n",
       "  </thead>\n",
       "  <tbody>\n",
       "    <tr>\n",
       "      <th>1939</th>\n",
       "      <td>12/02/2022</td>\n",
       "      <td>Reps declare national emergency on ritual kill...</td>\n",
       "      <td>Premium Times Nigeria</td>\n",
       "      <td>The House noted that while citizens of other c...</td>\n",
       "      <td>negative</td>\n",
       "      <td>positive</td>\n",
       "      <td>negative</td>\n",
       "    </tr>\n",
       "    <tr>\n",
       "      <th>2031</th>\n",
       "      <td>30/04/2022</td>\n",
       "      <td>What we know about ritual killings for money, ...</td>\n",
       "      <td>Vanguard News</td>\n",
       "      <td>??Money ritual real but there are consequence...</td>\n",
       "      <td>negative</td>\n",
       "      <td>positive</td>\n",
       "      <td>positive</td>\n",
       "    </tr>\n",
       "  </tbody>\n",
       "</table>\n",
       "</div>"
      ],
      "text/plain": [
       "            Date                                          Headlines  \\\n",
       "1939  12/02/2022  Reps declare national emergency on ritual kill...   \n",
       "2031  30/04/2022  What we know about ritual killings for money, ...   \n",
       "\n",
       "                     Author  \\\n",
       "1939  Premium Times Nigeria   \n",
       "2031          Vanguard News   \n",
       "\n",
       "                                               Tag Text True_Label  \\\n",
       "1939  The House noted that while citizens of other c...   negative   \n",
       "2031  ??Money ritual real but there are consequence...   negative   \n",
       "\n",
       "     FineTuned_Diversity_SiEBERT_Headlines_Predicted_Label  \\\n",
       "1939                                           positive      \n",
       "2031                                           positive      \n",
       "\n",
       "     FineTuned_Diversity_SiEBERT_Tag Text_Predicted_Label  \n",
       "1939                                           negative    \n",
       "2031                                           positive    "
      ]
     },
     "execution_count": 175,
     "metadata": {},
     "output_type": "execute_result"
    }
   ],
   "source": [
    "filtered_examples"
   ]
  },
  {
   "cell_type": "code",
   "execution_count": 176,
   "id": "00fcb214",
   "metadata": {},
   "outputs": [
    {
     "data": {
      "text/plain": [
       "'Reps declare national emergency on ritual killings in Nigeria'"
      ]
     },
     "execution_count": 176,
     "metadata": {},
     "output_type": "execute_result"
    }
   ],
   "source": [
    "filtered_examples.iloc[0]['Headlines']"
   ]
  },
  {
   "cell_type": "code",
   "execution_count": 177,
   "id": "299f2b3c",
   "metadata": {},
   "outputs": [
    {
     "data": {
      "text/plain": [
       "'negative'"
      ]
     },
     "execution_count": 177,
     "metadata": {},
     "output_type": "execute_result"
    }
   ],
   "source": [
    "sentiment_analysis('Reps declare national emergency on ritual killings')[0]['label'].lower()"
   ]
  },
  {
   "cell_type": "code",
   "execution_count": 180,
   "id": "51f6b4ae",
   "metadata": {},
   "outputs": [
    {
     "data": {
      "text/plain": [
       "'positive'"
      ]
     },
     "execution_count": 180,
     "metadata": {},
     "output_type": "execute_result"
    }
   ],
   "source": [
    "sentiment_analysis('Reps declare national emergency on ritual killings in Nigeria')[0]['label'].lower()"
   ]
  },
  {
   "cell_type": "markdown",
   "id": "8652392b",
   "metadata": {},
   "source": [
    "Let's check the only false negative example"
   ]
  },
  {
   "cell_type": "code",
   "execution_count": 96,
   "id": "304414aa",
   "metadata": {},
   "outputs": [
    {
     "data": {
      "text/plain": [
       "'Rituals Keep These Athletes Grounded. They Can Help Parents, Too.'"
      ]
     },
     "execution_count": 96,
     "metadata": {},
     "output_type": "execute_result"
    }
   ],
   "source": [
    "SiEBERT_misclassified_false_negative_headlines_words.iloc[0]['Headlines']"
   ]
  },
  {
   "cell_type": "markdown",
   "id": "8b689ec9",
   "metadata": {},
   "source": [
    "Wordcloud to see those most appearing common words in headlines or tag text that Vader tend to classified as positive and negative."
   ]
  },
  {
   "cell_type": "code",
   "execution_count": 97,
   "id": "8e411f64",
   "metadata": {},
   "outputs": [
    {
     "data": {
      "image/png": "[encoded data removed]",
      "text/plain": [
       "<Figure size 720x432 with 1 Axes>"
      ]
     },
     "metadata": {
      "needs_background": "light"
     },
     "output_type": "display_data"
    },
    {
     "data": {
      "image/png": "[encoded data removed]",
      "text/plain": [
       "<Figure size 720x432 with 1 Axes>"
      ]
     },
     "metadata": {
      "needs_background": "light"
     },
     "output_type": "display_data"
    }
   ],
   "source": [
    "from wordcloud import WordCloud, STOPWORDS\n",
    "# Wordcloud with positive headlines\n",
    "Classified_positive_headlines = df_FineTuned_Diversity_SiEBERT['Headlines'][df_FineTuned_Diversity_SiEBERT[\"FineTuned_Diversity_SiEBERT_Headlines_Predicted_Label\"] == 'positive']\n",
    "stop_words = [\"https\",'.com'] + list(STOPWORDS)\n",
    "positive_headlines_wordcloud = WordCloud(max_font_size=50, max_words=50, background_color=\"white\", stopwords = stop_words).generate(str(Classified_positive_headlines))\n",
    "plt.figure(figsize=(10, 6))\n",
    "plt.title(\"Positive headlines - Wordcloud\")\n",
    "plt.imshow(positive_headlines_wordcloud, interpolation=\"bilinear\")\n",
    "plt.axis(\"off\")\n",
    "plt.show()\n",
    "\n",
    "# Wordcloud with negative headlines\n",
    "Classified_negative_headlines = df_FineTuned_Diversity_SiEBERT['Headlines'][df_FineTuned_Diversity_SiEBERT[\"FineTuned_Diversity_SiEBERT_Headlines_Predicted_Label\"] == 'negative']\n",
    "stop_words = [\"https\"] + list(STOPWORDS)\n",
    "negative_headlines_wordcloud = WordCloud(max_font_size=50, max_words=50, background_color=\"white\", stopwords = stop_words).generate(str(Classified_negative_headlines))\n",
    "plt.figure(figsize=(10, 6))\n",
    "plt.title(\"Negative headlines - Wordcloud\")\n",
    "plt.imshow(negative_headlines_wordcloud, interpolation=\"bilinear\")\n",
    "plt.axis(\"off\")\n",
    "plt.show()"
   ]
  },
  {
   "cell_type": "markdown",
   "id": "dfdb3277",
   "metadata": {},
   "source": [
    "###### Get the distillbert dataframe that only contain misclassified examples for further analysis\n",
    "\n",
    "we see that SIEBERT is weak at classifying true negative examples but distillbert is better instead."
   ]
  },
  {
   "cell_type": "code",
   "execution_count": 98,
   "id": "d73a764e",
   "metadata": {},
   "outputs": [],
   "source": [
    "distilbert_misclassified_false_positive_headlines_words = df_stanford_Sentiment_Treebank_distilbert[(df_stanford_Sentiment_Treebank_distilbert['Stanford_Sentiment_Treebank_distilbert_Headlines_Predicted_Label'] == 'positive') & (df_stanford_Sentiment_Treebank_distilbert['True_Label'] == 'negative')]\n",
    "distilbert_misclassified_false_negative_headlines_words = df_stanford_Sentiment_Treebank_distilbert[(df_stanford_Sentiment_Treebank_distilbert['Stanford_Sentiment_Treebank_distilbert_Headlines_Predicted_Label'] == 'negative') & (df_stanford_Sentiment_Treebank_distilbert['True_Label'] == 'positive')]"
   ]
  },
  {
   "cell_type": "code",
   "execution_count": 99,
   "id": "c3095344",
   "metadata": {},
   "outputs": [
    {
     "name": "stdout",
     "output_type": "stream",
     "text": [
      "[('ritual', 7), (\"'s\", 3), ('sacrifice', 2), (\"'\", 2), ('poland', 1), ('kaczynski', 1), ('ends', 1), ('monthly', 1), ('air', 1), ('crash', 1), ('memory', 1), ('twin', 1), ('peru', 1), ('unearths', 1), ('evidence', 1), ('ancient', 1), ('mass', 1), ('child', 1), ('ghana', 1), ('first', 1)]\n"
     ]
    },
    {
     "name": "stderr",
     "output_type": "stream",
     "text": [
      "C:\\ProgramData\\Anaconda3\\lib\\site-packages\\seaborn\\_decorators.py:36: FutureWarning: Pass the following variables as keyword args: x, y. From version 0.12, the only valid positional argument will be `data`, and passing other arguments without an explicit keyword will result in an error or misinterpretation.\n",
      "  warnings.warn(\n"
     ]
    },
    {
     "data": {
      "image/png": "[encoded data removed]",
      "text/plain": [
       "<Figure size 720x576 with 1 Axes>"
      ]
     },
     "metadata": {
      "needs_background": "light"
     },
     "output_type": "display_data"
    }
   ],
   "source": [
    "cw = Common_words_plot(distilbert_misclassified_false_positive_headlines_words,'Headlines',20,'misclassified false positive headlines')"
   ]
  },
  {
   "cell_type": "code",
   "execution_count": 100,
   "id": "58dfa65f",
   "metadata": {},
   "outputs": [
    {
     "name": "stdout",
     "output_type": "stream",
     "text": [
      "[('ritual', 15), ('help', 5), ('moon', 4), (':', 3), ('?', 3), (\"'s\", 2), ('``', 2), (\"''\", 2), ('loss', 2), (\"'\", 2), (',', 2), ('|', 2), ('anxiety', 2), ('weight', 2), ('new', 1), ('cutting', 1), ('cord', 1), ('limiting', 1), ('beliefs', 1), ('mindbodygreen.com', 1)]\n"
     ]
    },
    {
     "name": "stderr",
     "output_type": "stream",
     "text": [
      "C:\\ProgramData\\Anaconda3\\lib\\site-packages\\seaborn\\_decorators.py:36: FutureWarning: Pass the following variables as keyword args: x, y. From version 0.12, the only valid positional argument will be `data`, and passing other arguments without an explicit keyword will result in an error or misinterpretation.\n",
      "  warnings.warn(\n"
     ]
    },
    {
     "data": {
      "image/png": "[encoded data removed]",
      "text/plain": [
       "<Figure size 720x576 with 1 Axes>"
      ]
     },
     "metadata": {
      "needs_background": "light"
     },
     "output_type": "display_data"
    }
   ],
   "source": [
    "cw = Common_words_plot(distilbert_misclassified_false_negative_headlines_words,'Headlines',20,'misclassified false negative headlines')"
   ]
  },
  {
   "cell_type": "markdown",
   "id": "541fc375",
   "metadata": {},
   "source": [
    "Analysis on false positive headlines cases"
   ]
  },
  {
   "cell_type": "code",
   "execution_count": 101,
   "id": "9e92f143",
   "metadata": {},
   "outputs": [],
   "source": [
    "misclassified_words = [word_tokenize(text.lower()) for text in distilbert_misclassified_false_positive_headlines_words['Headlines']]\n",
    "words_list = [item for sublist in misclassified_words for item in sublist]"
   ]
  },
  {
   "cell_type": "code",
   "execution_count": 102,
   "id": "2c04b42b",
   "metadata": {},
   "outputs": [
    {
     "name": "stdout",
     "output_type": "stream",
     "text": [
      "                  n-gram  Frequency\n",
      "0           (ritual, in)          2\n",
      "1           (poland, 's)          1\n",
      "2        ('s, kaczynski)          1\n",
      "3      (kaczynski, ends)          1\n",
      "4        (ends, monthly)          1\n",
      "5         (monthly, air)          1\n",
      "6           (air, crash)          1\n",
      "7        (crash, ritual)          1\n",
      "8           (in, memory)          1\n",
      "9           (memory, of)          1\n",
      "10            (of, twin)          1\n",
      "11          (twin, peru)          1\n",
      "12      (peru, unearths)          1\n",
      "13  (unearths, evidence)          1\n",
      "14        (evidence, of)          1\n",
      "15         (of, ancient)          1\n",
      "16       (ancient, mass)          1\n",
      "17         (mass, child)          1\n",
      "18    (child, sacrifice)          1\n",
      "19   (sacrifice, ritual)          1\n",
      "20       (ritual, ghana)          1\n",
      "21           (ghana, 's)          1\n",
      "22           ('s, first)          1\n",
      "23        (first, money)          1\n",
      "24       (money, ritual)          1\n",
      "25      (ritual, church)          1\n",
      "26     (church, emerges)          1\n",
      "27         (emerges, eu)          1\n",
      "28              (eu, 's)          1\n",
      "29         ('s, eastern)          1\n"
     ]
    }
   ],
   "source": [
    "n = 2  # n grams parameter\n",
    "n_grams = ngrams(words_list, n)\n",
    "n_grams = list(n_grams)\n",
    "n_grams_frequency = Counter(n_grams)\n",
    "most_common_n_grams = n_grams_frequency.most_common(30)  # Adjust the number to see more or fewer common n-grams\n",
    "# Convert to DataFrame for better visualization\n",
    "df_most_common_n_grams = pd.DataFrame(most_common_n_grams, columns=['n-gram', 'Frequency'])\n",
    "print(df_most_common_n_grams)"
   ]
  },
  {
   "cell_type": "markdown",
   "id": "724db325",
   "metadata": {},
   "source": [
    "Analysis on false negative headlines cases"
   ]
  },
  {
   "cell_type": "code",
   "execution_count": 103,
   "id": "b56a3f47",
   "metadata": {},
   "outputs": [
    {
     "name": "stdout",
     "output_type": "stream",
     "text": [
      "                          n-gram  Frequency\n",
      "0                   (ritual, to)          4\n",
      "1                 (moon, ritual)          2\n",
      "2                  (ritual, for)          2\n",
      "3                   (ritual, of)          2\n",
      "4                    (help, you)          2\n",
      "5                       (a, new)          1\n",
      "6                    (new, moon)          1\n",
      "7                 (for, cutting)          1\n",
      "8                 (cutting, the)          1\n",
      "9                    (the, cord)          1\n",
      "10                    (cord, on)          1\n",
      "11                (on, limiting)          1\n",
      "12           (limiting, beliefs)          1\n",
      "13  (beliefs, mindbodygreen.com)          1\n",
      "14        (mindbodygreen.com, a)          1\n",
      "15                     (a, full)          1\n",
      "16                  (full, moon)          1\n",
      "17                   (to, bring)          1\n",
      "18                  (bring, out)          1\n",
      "19                   (out, your)          1\n",
      "20                 (your, inner)          1\n",
      "21                 (inner, high)          1\n",
      "22             (high, priestess)          1\n",
      "23           (priestess, badass)          1\n",
      "24                   (badass, i)          1\n",
      "25                    (i, tried)          1\n",
      "26              (tried, yogaglo)          1\n",
      "27                 (yogaglo, 's)          1\n",
      "28                      ('s, ``)          1\n",
      "29                   (``, women)          1\n"
     ]
    }
   ],
   "source": [
    "misclassified_words = [word_tokenize(text.lower()) for text in distilbert_misclassified_false_negative_headlines_words['Headlines']]\n",
    "words_list = [item for sublist in misclassified_words for item in sublist]\n",
    "n = 2  # n grams parameter\n",
    "n_grams = ngrams(words_list, n)\n",
    "n_grams = list(n_grams)\n",
    "\n",
    "n_grams_frequency = Counter(n_grams)\n",
    "most_common_n_grams = n_grams_frequency.most_common(30)  # Adjust the number to see more or fewer common n-grams\n",
    "\n",
    "df_most_common_n_grams = pd.DataFrame(most_common_n_grams, columns=['n-gram', 'Frequency'])\n",
    "print(df_most_common_n_grams)"
   ]
  },
  {
   "cell_type": "code",
   "execution_count": 104,
   "id": "5d46c0c6",
   "metadata": {},
   "outputs": [
    {
     "data": {
      "text/plain": [
       "'POSITIVE'"
      ]
     },
     "execution_count": 104,
     "metadata": {},
     "output_type": "execute_result"
    }
   ],
   "source": [
    "distilbert_sentiment_analysis('moon ritual')"
   ]
  },
  {
   "cell_type": "code",
   "execution_count": 105,
   "id": "e4f827e2",
   "metadata": {},
   "outputs": [
    {
     "data": {
      "text/plain": [
       "'NEGATIVE'"
      ]
     },
     "execution_count": 105,
     "metadata": {},
     "output_type": "execute_result"
    }
   ],
   "source": [
    "distilbert_sentiment_analysis('money ritual')"
   ]
  },
  {
   "cell_type": "code",
   "execution_count": 106,
   "id": "d56b467f",
   "metadata": {},
   "outputs": [
    {
     "data": {
      "text/plain": [
       "'NEGATIVE'"
      ]
     },
     "execution_count": 106,
     "metadata": {},
     "output_type": "execute_result"
    }
   ],
   "source": [
    "distilbert_sentiment_analysis('crash ritual')"
   ]
  },
  {
   "cell_type": "code",
   "execution_count": 107,
   "id": "7aebfafa",
   "metadata": {},
   "outputs": [
    {
     "data": {
      "text/plain": [
       "'NEGATIVE'"
      ]
     },
     "execution_count": 107,
     "metadata": {},
     "output_type": "execute_result"
    }
   ],
   "source": [
    "distilbert_sentiment_analysis('satanic ritual')"
   ]
  },
  {
   "cell_type": "code",
   "execution_count": 108,
   "id": "91d154d1",
   "metadata": {},
   "outputs": [],
   "source": [
    "\n",
    "filtered_examples = distilbert_misclassified_false_negative_headlines_words[distilbert_misclassified_false_negative_headlines_words['Headlines'].str.contains('moon ritual', case=False, na=False)]"
   ]
  },
  {
   "cell_type": "code",
   "execution_count": 109,
   "id": "526c216a",
   "metadata": {},
   "outputs": [
    {
     "data": {
      "text/plain": [
       "'A New Moon Ritual For Cutting The Cord On Limiting Beliefs mindbodygreen.com'"
      ]
     },
     "execution_count": 109,
     "metadata": {},
     "output_type": "execute_result"
    }
   ],
   "source": [
    "filtered_examples.iloc[0]['Headlines']"
   ]
  },
  {
   "cell_type": "markdown",
   "id": "e9cc506d",
   "metadata": {},
   "source": [
    "Test an example that tag text vader got wrong but classified headline correct at the end of vader notebook\n",
    "\n",
    "\n",
    "distill bert failed but other two with better performance than distill bert classified it correctly."
   ]
  },
  {
   "cell_type": "code",
   "execution_count": 110,
   "id": "25c77b65",
   "metadata": {},
   "outputs": [
    {
     "data": {
      "text/plain": [
       "'NEGATIVE'"
      ]
     },
     "execution_count": 110,
     "metadata": {},
     "output_type": "execute_result"
    }
   ],
   "source": [
    "distilbert_sentiment_analysis(df_no_missing_column[df_no_missing_column['Headlines'] == '9 Daily Rituals to Boost Your Performance at Work (Infographic)'].iloc[0]['Tag Text'])"
   ]
  },
  {
   "cell_type": "code",
   "execution_count": 111,
   "id": "ff6cecbf",
   "metadata": {},
   "outputs": [
    {
     "data": {
      "text/plain": [
       "'positive'"
      ]
     },
     "execution_count": 111,
     "metadata": {},
     "output_type": "execute_result"
    }
   ],
   "source": [
    "sentiment_analysis(df_no_missing_column[df_no_missing_column['Headlines'] == '9 Daily Rituals to Boost Your Performance at Work (Infographic)'].iloc[0]['Tag Text'])[0]['label'].lower()"
   ]
  },
  {
   "cell_type": "code",
   "execution_count": 112,
   "id": "ba8226aa",
   "metadata": {},
   "outputs": [
    {
     "data": {
      "text/plain": [
       "'positive'"
      ]
     },
     "execution_count": 112,
     "metadata": {},
     "output_type": "execute_result"
    }
   ],
   "source": [
    "get_sentiment_result(df_no_missing_column[df_no_missing_column['Headlines'] == '9 Daily Rituals to Boost Your Performance at Work (Infographic)'].iloc[0]['Tag Text'])"
   ]
  },
  {
   "cell_type": "markdown",
   "id": "34883a0f",
   "metadata": {},
   "source": [
    "###### Save dataset"
   ]
  },
  {
   "cell_type": "code",
   "execution_count": 113,
   "id": "d63bee87",
   "metadata": {},
   "outputs": [],
   "source": [
    "common_columns = ['Date', 'Headlines','Author','Tag Text','True_Label']\n",
    "Transformer_Based_Model_df = pd.merge(df_TweetPretrained_Reberta, df_FineTuned_Diversity_SiEBERT, on=common_columns)\n",
    "Transformer_Based_Model_df = pd.merge(Transformer_Based_Model_df, df_stanford_Sentiment_Treebank_distilbert, on=common_columns)"
   ]
  },
  {
   "cell_type": "code",
   "execution_count": 114,
   "id": "5ccc6cf2",
   "metadata": {},
   "outputs": [
    {
     "data": {
      "text/html": [
       "<div>\n",
       "<style scoped>\n",
       "    .dataframe tbody tr th:only-of-type {\n",
       "        vertical-align: middle;\n",
       "    }\n",
       "\n",
       "    .dataframe tbody tr th {\n",
       "        vertical-align: top;\n",
       "    }\n",
       "\n",
       "    .dataframe thead th {\n",
       "        text-align: right;\n",
       "    }\n",
       "</style>\n",
       "<table border=\"1\" class=\"dataframe\">\n",
       "  <thead>\n",
       "    <tr style=\"text-align: right;\">\n",
       "      <th></th>\n",
       "      <th>Date</th>\n",
       "      <th>Headlines</th>\n",
       "      <th>Author</th>\n",
       "      <th>Tag Text</th>\n",
       "      <th>True_Label</th>\n",
       "      <th>TweetPretrained_Reberta_Headlines_Predicted_Label</th>\n",
       "      <th>TweetPretrained_Reberta_Tag Text_Predicted_Label</th>\n",
       "      <th>FineTuned_Diversity_SiEBERT_Headlines_Predicted_Label</th>\n",
       "      <th>FineTuned_Diversity_SiEBERT_Tag Text_Predicted_Label</th>\n",
       "      <th>Stanford_Sentiment_Treebank_distilbert_Headlines_Predicted_Label</th>\n",
       "      <th>Stanford_Sentiment_Treebank_distilbert_Tag Text_Predicted_Label</th>\n",
       "    </tr>\n",
       "  </thead>\n",
       "  <tbody>\n",
       "    <tr>\n",
       "      <th>0</th>\n",
       "      <td>17/03/2018</td>\n",
       "      <td>Ritual killing? Outrage in Kakamega as missing...</td>\n",
       "      <td>SDE Entertainment News</td>\n",
       "      <td>Occurrences of ritual killings in Kakamega, wh...</td>\n",
       "      <td>negative</td>\n",
       "      <td>negative</td>\n",
       "      <td>negative</td>\n",
       "      <td>negative</td>\n",
       "      <td>negative</td>\n",
       "      <td>negative</td>\n",
       "      <td>negative</td>\n",
       "    </tr>\n",
       "    <tr>\n",
       "      <th>1</th>\n",
       "      <td>17/03/2018</td>\n",
       "      <td>A New Moon Ritual For Cutting The Cord On Limi...</td>\n",
       "      <td>Unknown</td>\n",
       "      <td>The Pisces new moon is a juicy, watery, soft, ...</td>\n",
       "      <td>positive</td>\n",
       "      <td>positive</td>\n",
       "      <td>positive</td>\n",
       "      <td>positive</td>\n",
       "      <td>positive</td>\n",
       "      <td>negative</td>\n",
       "      <td>positive</td>\n",
       "    </tr>\n",
       "    <tr>\n",
       "      <th>2</th>\n",
       "      <td>17/03/2018</td>\n",
       "      <td>Dead chickens, goats from animal sacrifice rit...</td>\n",
       "      <td>County</td>\n",
       "      <td>WOAISAN ANTONIO - Police are questioning suspe...</td>\n",
       "      <td>negative</td>\n",
       "      <td>negative</td>\n",
       "      <td>negative</td>\n",
       "      <td>negative</td>\n",
       "      <td>negative</td>\n",
       "      <td>negative</td>\n",
       "      <td>negative</td>\n",
       "    </tr>\n",
       "    <tr>\n",
       "      <th>3</th>\n",
       "      <td>24/03/2018</td>\n",
       "      <td>Jepitu farmers, fishermen hold thanksgiving ri...</td>\n",
       "      <td>Jakarta Post</td>\n",
       "      <td>Two fishermen fish using a net at the as part ...</td>\n",
       "      <td>positive</td>\n",
       "      <td>positive</td>\n",
       "      <td>positive</td>\n",
       "      <td>positive</td>\n",
       "      <td>positive</td>\n",
       "      <td>positive</td>\n",
       "      <td>negative</td>\n",
       "    </tr>\n",
       "    <tr>\n",
       "      <th>4</th>\n",
       "      <td>24/03/2018</td>\n",
       "      <td>Texas authorities: At least 12 arrested for an...</td>\n",
       "      <td>Unknown</td>\n",
       "      <td>SAN ANTONIO (AP) ?? Authorities in Texas have...</td>\n",
       "      <td>negative</td>\n",
       "      <td>negative</td>\n",
       "      <td>negative</td>\n",
       "      <td>negative</td>\n",
       "      <td>negative</td>\n",
       "      <td>negative</td>\n",
       "      <td>negative</td>\n",
       "    </tr>\n",
       "    <tr>\n",
       "      <th>...</th>\n",
       "      <td>...</td>\n",
       "      <td>...</td>\n",
       "      <td>...</td>\n",
       "      <td>...</td>\n",
       "      <td>...</td>\n",
       "      <td>...</td>\n",
       "      <td>...</td>\n",
       "      <td>...</td>\n",
       "      <td>...</td>\n",
       "      <td>...</td>\n",
       "      <td>...</td>\n",
       "    </tr>\n",
       "    <tr>\n",
       "      <th>265</th>\n",
       "      <td>20/08/2022</td>\n",
       "      <td>Police in Nigeria find 20 mummified bodies in ...</td>\n",
       "      <td>The Guardian</td>\n",
       "      <td>The GuardianArmed police officers raided the b...</td>\n",
       "      <td>negative</td>\n",
       "      <td>negative</td>\n",
       "      <td>negative</td>\n",
       "      <td>negative</td>\n",
       "      <td>negative</td>\n",
       "      <td>negative</td>\n",
       "      <td>negative</td>\n",
       "    </tr>\n",
       "    <tr>\n",
       "      <th>266</th>\n",
       "      <td>20/08/2022</td>\n",
       "      <td>Police give more details about 20 corpses dem ...</td>\n",
       "      <td>BBC</td>\n",
       "      <td>BBCPolice for Edo State south-south Nigeria sa...</td>\n",
       "      <td>negative</td>\n",
       "      <td>negative</td>\n",
       "      <td>negative</td>\n",
       "      <td>positive</td>\n",
       "      <td>negative</td>\n",
       "      <td>negative</td>\n",
       "      <td>negative</td>\n",
       "    </tr>\n",
       "    <tr>\n",
       "      <th>267</th>\n",
       "      <td>27/08/2022</td>\n",
       "      <td>9 New Moon Rituals For Intention Setting, Mani...</td>\n",
       "      <td>Experts - MindBodyGreen</td>\n",
       "      <td>MindBodyGreenNew moons are an excellent time t...</td>\n",
       "      <td>positive</td>\n",
       "      <td>positive</td>\n",
       "      <td>positive</td>\n",
       "      <td>positive</td>\n",
       "      <td>positive</td>\n",
       "      <td>positive</td>\n",
       "      <td>positive</td>\n",
       "    </tr>\n",
       "    <tr>\n",
       "      <th>268</th>\n",
       "      <td>27/08/2022</td>\n",
       "      <td>Pune: Woman Made To Bathe In Public As Per Rit...</td>\n",
       "      <td>In Laws</td>\n",
       "      <td>Outlook IndiaA woman in Maharashtra's Pune has...</td>\n",
       "      <td>negative</td>\n",
       "      <td>negative</td>\n",
       "      <td>negative</td>\n",
       "      <td>negative</td>\n",
       "      <td>negative</td>\n",
       "      <td>negative</td>\n",
       "      <td>negative</td>\n",
       "    </tr>\n",
       "    <tr>\n",
       "      <th>269</th>\n",
       "      <td>27/08/2022</td>\n",
       "      <td>Pune Woman Forced To Bathe In Public In 'Ritua...</td>\n",
       "      <td>Filed - NDTV.com</td>\n",
       "      <td>NDTV.com... a woman from Maharashtra's Pune wa...</td>\n",
       "      <td>negative</td>\n",
       "      <td>negative</td>\n",
       "      <td>negative</td>\n",
       "      <td>negative</td>\n",
       "      <td>negative</td>\n",
       "      <td>negative</td>\n",
       "      <td>negative</td>\n",
       "    </tr>\n",
       "  </tbody>\n",
       "</table>\n",
       "<p>270 rows × 11 columns</p>\n",
       "</div>"
      ],
      "text/plain": [
       "           Date                                          Headlines  \\\n",
       "0    17/03/2018  Ritual killing? Outrage in Kakamega as missing...   \n",
       "1    17/03/2018  A New Moon Ritual For Cutting The Cord On Limi...   \n",
       "2    17/03/2018  Dead chickens, goats from animal sacrifice rit...   \n",
       "3    24/03/2018  Jepitu farmers, fishermen hold thanksgiving ri...   \n",
       "4    24/03/2018  Texas authorities: At least 12 arrested for an...   \n",
       "..          ...                                                ...   \n",
       "265  20/08/2022  Police in Nigeria find 20 mummified bodies in ...   \n",
       "266  20/08/2022  Police give more details about 20 corpses dem ...   \n",
       "267  27/08/2022  9 New Moon Rituals For Intention Setting, Mani...   \n",
       "268  27/08/2022  Pune: Woman Made To Bathe In Public As Per Rit...   \n",
       "269  27/08/2022  Pune Woman Forced To Bathe In Public In 'Ritua...   \n",
       "\n",
       "                      Author  \\\n",
       "0     SDE Entertainment News   \n",
       "1                    Unknown   \n",
       "2                     County   \n",
       "3               Jakarta Post   \n",
       "4                    Unknown   \n",
       "..                       ...   \n",
       "265             The Guardian   \n",
       "266                      BBC   \n",
       "267  Experts - MindBodyGreen   \n",
       "268                  In Laws   \n",
       "269         Filed - NDTV.com   \n",
       "\n",
       "                                              Tag Text True_Label  \\\n",
       "0    Occurrences of ritual killings in Kakamega, wh...   negative   \n",
       "1    The Pisces new moon is a juicy, watery, soft, ...   positive   \n",
       "2    WOAISAN ANTONIO - Police are questioning suspe...   negative   \n",
       "3    Two fishermen fish using a net at the as part ...   positive   \n",
       "4    SAN ANTONIO (AP) ?? Authorities in Texas have...   negative   \n",
       "..                                                 ...        ...   \n",
       "265  The GuardianArmed police officers raided the b...   negative   \n",
       "266  BBCPolice for Edo State south-south Nigeria sa...   negative   \n",
       "267  MindBodyGreenNew moons are an excellent time t...   positive   \n",
       "268  Outlook IndiaA woman in Maharashtra's Pune has...   negative   \n",
       "269  NDTV.com... a woman from Maharashtra's Pune wa...   negative   \n",
       "\n",
       "    TweetPretrained_Reberta_Headlines_Predicted_Label  \\\n",
       "0                                            negative   \n",
       "1                                            positive   \n",
       "2                                            negative   \n",
       "3                                            positive   \n",
       "4                                            negative   \n",
       "..                                                ...   \n",
       "265                                          negative   \n",
       "266                                          negative   \n",
       "267                                          positive   \n",
       "268                                          negative   \n",
       "269                                          negative   \n",
       "\n",
       "    TweetPretrained_Reberta_Tag Text_Predicted_Label  \\\n",
       "0                                           negative   \n",
       "1                                           positive   \n",
       "2                                           negative   \n",
       "3                                           positive   \n",
       "4                                           negative   \n",
       "..                                               ...   \n",
       "265                                         negative   \n",
       "266                                         negative   \n",
       "267                                         positive   \n",
       "268                                         negative   \n",
       "269                                         negative   \n",
       "\n",
       "    FineTuned_Diversity_SiEBERT_Headlines_Predicted_Label  \\\n",
       "0                                             negative      \n",
       "1                                             positive      \n",
       "2                                             negative      \n",
       "3                                             positive      \n",
       "4                                             negative      \n",
       "..                                                 ...      \n",
       "265                                           negative      \n",
       "266                                           positive      \n",
       "267                                           positive      \n",
       "268                                           negative      \n",
       "269                                           negative      \n",
       "\n",
       "    FineTuned_Diversity_SiEBERT_Tag Text_Predicted_Label  \\\n",
       "0                                             negative     \n",
       "1                                             positive     \n",
       "2                                             negative     \n",
       "3                                             positive     \n",
       "4                                             negative     \n",
       "..                                                 ...     \n",
       "265                                           negative     \n",
       "266                                           negative     \n",
       "267                                           positive     \n",
       "268                                           negative     \n",
       "269                                           negative     \n",
       "\n",
       "    Stanford_Sentiment_Treebank_distilbert_Headlines_Predicted_Label  \\\n",
       "0                                             negative                 \n",
       "1                                             negative                 \n",
       "2                                             negative                 \n",
       "3                                             positive                 \n",
       "4                                             negative                 \n",
       "..                                                 ...                 \n",
       "265                                           negative                 \n",
       "266                                           negative                 \n",
       "267                                           positive                 \n",
       "268                                           negative                 \n",
       "269                                           negative                 \n",
       "\n",
       "    Stanford_Sentiment_Treebank_distilbert_Tag Text_Predicted_Label  \n",
       "0                                             negative               \n",
       "1                                             positive               \n",
       "2                                             negative               \n",
       "3                                             negative               \n",
       "4                                             negative               \n",
       "..                                                 ...               \n",
       "265                                           negative               \n",
       "266                                           negative               \n",
       "267                                           positive               \n",
       "268                                           negative               \n",
       "269                                           negative               \n",
       "\n",
       "[270 rows x 11 columns]"
      ]
     },
     "execution_count": 114,
     "metadata": {},
     "output_type": "execute_result"
    }
   ],
   "source": [
    "Transformer_Based_Model_df"
   ]
  },
  {
   "cell_type": "code",
   "execution_count": 115,
   "id": "2fd1320c",
   "metadata": {},
   "outputs": [
    {
     "name": "stdout",
     "output_type": "stream",
     "text": [
      "Saving the dataset that contain the classified sentiment by chatgpt(270, 11.)\n"
     ]
    },
    {
     "data": {
      "text/plain": [
       "((270, 11),\n",
       " Index(['Date', 'Headlines', 'Author', 'Tag Text', 'True_Label',\n",
       "        'TweetPretrained_Reberta_Headlines_Predicted_Label',\n",
       "        'TweetPretrained_Reberta_Tag Text_Predicted_Label',\n",
       "        'FineTuned_Diversity_SiEBERT_Headlines_Predicted_Label',\n",
       "        'FineTuned_Diversity_SiEBERT_Tag Text_Predicted_Label',\n",
       "        'Stanford_Sentiment_Treebank_distilbert_Headlines_Predicted_Label',\n",
       "        'Stanford_Sentiment_Treebank_distilbert_Tag Text_Predicted_Label'],\n",
       "       dtype='object'))"
      ]
     },
     "execution_count": 115,
     "metadata": {},
     "output_type": "execute_result"
    }
   ],
   "source": [
    "print('Saving the dataset that contain the classified sentiment by chatgpt(%s, %s.)' % Transformer_Based_Model_df.shape)\n",
    "Transformer_Based_Model_df.to_csv(Transformer_Based_Model_dataset, index=False)\n",
    "Transformer_Based_Model_df.shape, Transformer_Based_Model_df.columns"
   ]
  },
  {
   "cell_type": "code",
   "execution_count": null,
   "id": "f2e3df4f",
   "metadata": {},
   "outputs": [],
   "source": []
  }
 ],
 "metadata": {
  "kernelspec": {
   "display_name": "Python 3 (ipykernel)",
   "language": "python",
   "name": "python3"
  },
  "language_info": {
   "codemirror_mode": {
    "name": "ipython",
    "version": 3
   },
   "file_extension": ".py",
   "mimetype": "text/x-python",
   "name": "python",
   "nbconvert_exporter": "python",
   "pygments_lexer": "ipython3",
   "version": "3.9.12"
  }
 },
 "nbformat": 4,
 "nbformat_minor": 5
}
