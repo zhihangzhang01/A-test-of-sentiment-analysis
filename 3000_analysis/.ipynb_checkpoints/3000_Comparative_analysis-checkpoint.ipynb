{
 "cells": [
  {
   "cell_type": "markdown",
   "id": "385aa82f",
   "metadata": {},
   "source": [
    "# Comparative Analysis\n",
    "\n",
    "__Objectives__\n",
    "\n",
    "The primary purpose of this notebook is to do comparative analysis that compare evaluaton metrics across the tools. This will give a quantitative basis to assess which tool performs better on this unique ritual database.\n",
    "combine all of dataset together from "
   ]
  },
  {
   "cell_type": "code",
   "execution_count": 1,
   "id": "70832268",
   "metadata": {},
   "outputs": [
    {
     "name": "stderr",
     "output_type": "stream",
     "text": [
      "C:\\ProgramData\\Anaconda3\\lib\\site-packages\\scipy\\__init__.py:146: UserWarning: A NumPy version >=1.16.5 and <1.23.0 is required for this version of SciPy (detected version 1.26.1\n",
      "  warnings.warn(f\"A NumPy version >={np_minversion} and <{np_maxversion}\"\n"
     ]
    }
   ],
   "source": [
    "import numpy as np\n",
    "import pandas as pd\n",
    "from collections import Counter\n",
    "import nltk\n",
    "from nltk.tokenize import word_tokenize\n",
    "import seaborn as sns\n",
    "import warnings\n",
    "warnings.filterwarnings('ignore')\n",
    "import matplotlib.pyplot as plt\n",
    "from sklearn.metrics import accuracy_score, precision_score, recall_score, f1_score, confusion_matrix, ConfusionMatrixDisplay\n",
    "import matplotlib.pyplot as plt\n",
    "from tabulate import tabulate"
   ]
  },
  {
   "cell_type": "markdown",
   "id": "2fdae27c",
   "metadata": {},
   "source": [
    "###### Load all datasets produced by previous notebook"
   ]
  },
  {
   "cell_type": "code",
   "execution_count": null,
   "id": "fe47abca",
   "metadata": {},
   "outputs": [],
   "source": [
    "# The directory used to store all the datasets produced by previous notebook\n",
    "datasets_dir = '../../FYP/3000_analysis_dataset/'"
   ]
  },
  {
   "cell_type": "code",
   "execution_count": null,
   "id": "4e627581",
   "metadata": {},
   "outputs": [],
   "source": [
    "Vader_dataset = "
   ]
  },
  {
   "cell_type": "code",
   "execution_count": null,
   "id": "3dfab581",
   "metadata": {},
   "outputs": [],
   "source": [
    "Transformer_"
   ]
  },
  {
   "cell_type": "markdown",
   "id": "0f88624a",
   "metadata": {},
   "source": [
    "###### Combine all of datasets together."
   ]
  },
  {
   "cell_type": "code",
   "execution_count": null,
   "id": "82cffb34",
   "metadata": {},
   "outputs": [],
   "source": []
  },
  {
   "cell_type": "code",
   "execution_count": null,
   "id": "f03ef3fa",
   "metadata": {},
   "outputs": [],
   "source": []
  },
  {
   "cell_type": "code",
   "execution_count": null,
   "id": "07468c3b",
   "metadata": {},
   "outputs": [],
   "source": []
  },
  {
   "cell_type": "code",
   "execution_count": null,
   "id": "0ffe86ae",
   "metadata": {},
   "outputs": [],
   "source": []
  },
  {
   "cell_type": "code",
   "execution_count": null,
   "id": "947effdc",
   "metadata": {},
   "outputs": [],
   "source": []
  }
 ],
 "metadata": {
  "kernelspec": {
   "display_name": "Python 3 (ipykernel)",
   "language": "python",
   "name": "python3"
  },
  "language_info": {
   "codemirror_mode": {
    "name": "ipython",
    "version": 3
   },
   "file_extension": ".py",
   "mimetype": "text/x-python",
   "name": "python",
   "nbconvert_exporter": "python",
   "pygments_lexer": "ipython3",
   "version": "3.9.12"
  }
 },
 "nbformat": 4,
 "nbformat_minor": 5
}
